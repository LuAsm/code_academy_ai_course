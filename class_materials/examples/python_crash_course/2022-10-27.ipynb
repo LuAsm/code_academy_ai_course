{
 "cells": [
  {
   "cell_type": "markdown",
   "metadata": {},
   "source": [
    "# 2022-10-27"
   ]
  },
  {
   "cell_type": "code",
<<<<<<< HEAD:class_materials/examples/2022-10-27.ipynb
   "execution_count": 2,
=======
   "execution_count": 1,
>>>>>>> 7fea669646086174d0665e6356ad4cdcfc68216a:class_materials/examples/python_crash_course/2022-10-27.ipynb
   "metadata": {},
   "outputs": [],
   "source": [
    "import requests\n",
    "from bs4 import BeautifulSoup\n",
    "\n",
    "from typing import List, Dict, Optional\n",
    "\n",
    "import pandas as pd"
   ]
  },
  {
   "cell_type": "code",
   "execution_count": 2,
   "metadata": {},
   "outputs": [],
   "source": [
    "url = \"https://www.varle.lt/search/?p=2&q=ausine\"\n",
    "\n",
    "headers = {'User-Agent': 'Mozilla/5.0 (Windows NT 10.0; Win64; x64) AppleWebKit/537.36 (KHTML, like Gecko) Chrome/106.0.0.0 Safari/537.36'}\n",
    "page = requests.get(url)\n",
    "soup = BeautifulSoup(page.content, 'html.parser')\n"
   ]
  },
  {
   "cell_type": "code",
<<<<<<< HEAD:class_materials/examples/2022-10-27.ipynb
   "execution_count": 4,
=======
   "execution_count": 3,
>>>>>>> 7fea669646086174d0665e6356ad4cdcfc68216a:class_materials/examples/python_crash_course/2022-10-27.ipynb
   "metadata": {},
   "outputs": [
    {
     "data": {
      "text/plain": [
       "200"
      ]
     },
<<<<<<< HEAD:class_materials/examples/2022-10-27.ipynb
     "execution_count": 4,
=======
     "execution_count": 3,
>>>>>>> 7fea669646086174d0665e6356ad4cdcfc68216a:class_materials/examples/python_crash_course/2022-10-27.ipynb
     "metadata": {},
     "output_type": "execute_result"
    }
   ],
   "source": [
    "page.status_code"
   ]
  },
  {
   "cell_type": "code",
<<<<<<< HEAD:class_materials/examples/2022-10-27.ipynb
   "execution_count": null,
   "metadata": {},
   "outputs": [],
   "source": [
    "page.content"
   ]
  },
  {
   "cell_type": "code",
   "execution_count": null,
   "metadata": {},
   "outputs": [],
   "source": [
    "soup"
   ]
  },
  {
   "cell_type": "code",
   "execution_count": 77,
=======
   "execution_count": 4,
>>>>>>> 7fea669646086174d0665e6356ad4cdcfc68216a:class_materials/examples/python_crash_course/2022-10-27.ipynb
   "metadata": {},
   "outputs": [],
   "source": [
    "soup = BeautifulSoup(page.content, 'html.parser')"
   ]
  },
  {
   "cell_type": "code",
   "execution_count": 11,
   "metadata": {},
   "outputs": [
    {
     "data": {
      "text/plain": [
       "bs4.BeautifulSoup"
      ]
     },
     "execution_count": 11,
     "metadata": {},
     "output_type": "execute_result"
    }
   ],
   "source": [
    "type(soup)"
   ]
  },
  {
   "cell_type": "code",
   "execution_count": null,
   "metadata": {},
   "outputs": [],
   "source": [
    "print(soup.prettify())"
   ]
  },
  {
   "cell_type": "code",
<<<<<<< HEAD:class_materials/examples/2022-10-27.ipynb
   "execution_count": 79,
=======
   "execution_count": 6,
>>>>>>> 7fea669646086174d0665e6356ad4cdcfc68216a:class_materials/examples/python_crash_course/2022-10-27.ipynb
   "metadata": {},
   "outputs": [],
   "source": [
    "all_ps = soup.find_all(\"p\")"
   ]
  },
  {
   "cell_type": "code",
<<<<<<< HEAD:class_materials/examples/2022-10-27.ipynb
   "execution_count": 80,
=======
   "execution_count": 7,
>>>>>>> 7fea669646086174d0665e6356ad4cdcfc68216a:class_materials/examples/python_crash_course/2022-10-27.ipynb
   "metadata": {},
   "outputs": [
    {
     "data": {
      "text/plain": [
<<<<<<< HEAD:class_materials/examples/2022-10-27.ipynb
       "[<p id=\"cf-spinner-please-wait\">Please stand by, while we are checking your browser...</p>,\n",
       " <p id=\"cf-spinner-redirecting\" style=\"display:none\">Redirecting...</p>,\n",
       " <p style=\"color:#bd2426;\">Please enable Cookies and reload the page.</p>]"
      ]
     },
     "execution_count": 80,
=======
       "[<p>Turinio klausimais rašykite:</p>,\n",
       " <p><a href=\"/cdn-cgi/l/email-protection#691a0208071c2905080408001a1d081a47051d\"><span class=\"__cf_email__\" data-cfemail=\"fa89919b948fba969b979b93898e9b89d4968e\">[email protected]</span></a></p>,\n",
       " <p>(darbo laikas nuo 8 iki 17 val.)</p>,\n",
       " <p>Reklamos klausimais rašykite</p>,\n",
       " <p><a href=\"/cdn-cgi/l/email-protection#1b697e70777a767a5b7a767f727c726f7a7735776f\"><span class=\"__cf_email__\" data-cfemail=\"285a4d43444945496849454c414f415c494406445c\">[email protected]</span></a></p>,\n",
       " <p>(darbo laikas nuo 8 iki 17 val.)</p>]"
      ]
     },
     "execution_count": 7,
>>>>>>> 7fea669646086174d0665e6356ad4cdcfc68216a:class_materials/examples/python_crash_course/2022-10-27.ipynb
     "metadata": {},
     "output_type": "execute_result"
    }
   ],
   "source": [
    "all_ps"
   ]
  },
  {
   "cell_type": "code",
<<<<<<< HEAD:class_materials/examples/2022-10-27.ipynb
   "execution_count": 81,
   "metadata": {},
   "outputs": [],
   "source": [
    "all_h1 = soup.find_all(\"h1\")"
   ]
  },
  {
   "cell_type": "code",
   "execution_count": 82,
   "metadata": {},
   "outputs": [
    {
     "data": {
      "text/plain": [
       "[<h1 style=\"color:#bd2426;\">Please turn JavaScript on and reload the page.</h1>]"
      ]
     },
     "execution_count": 82,
     "metadata": {},
     "output_type": "execute_result"
    }
   ],
   "source": [
    "all_h1"
   ]
  },
  {
   "cell_type": "code",
   "execution_count": 127,
=======
   "execution_count": 9,
>>>>>>> 7fea669646086174d0665e6356ad4cdcfc68216a:class_materials/examples/python_crash_course/2022-10-27.ipynb
   "metadata": {},
   "outputs": [],
   "source": [
    "all_divs = soup.find_all(\"div\")"
   ]
  },
  {
   "cell_type": "code",
<<<<<<< HEAD:class_materials/examples/2022-10-27.ipynb
   "execution_count": null,
   "metadata": {},
   "outputs": [],
   "source": [
    "all_divs"
   ]
  },
  {
   "cell_type": "code",
   "execution_count": 105,
=======
   "execution_count": 10,
>>>>>>> 7fea669646086174d0665e6356ad4cdcfc68216a:class_materials/examples/python_crash_course/2022-10-27.ipynb
   "metadata": {},
   "outputs": [
    {
     "name": "stdout",
     "output_type": "stream",
     "text": [
      "<class 'bs4.element.Tag'>\n",
      "Please stand by, while we are checking your browser...\n"
     ]
    }
   ],
   "source": [
    "print(type(all_ps[0]))\n",
    "print(all_ps[0].text)"
   ]
  },
  {
   "cell_type": "code",
   "execution_count": 188,
   "metadata": {},
   "outputs": [
    {
     "name": "stdout",
     "output_type": "stream",
     "text": [
      "/ausines/zaidimu-ausines-logitech-g332-50mm-35mm-daugiaplatformes--14211536.html\n"
     ]
    },
    {
     "data": {
      "text/plain": [
       "'\\n\\n34.99\\n\\xa0€\\n'"
      ]
     },
     "execution_count": 188,
     "metadata": {},
     "output_type": "execute_result"
    }
   ],
   "source": [
    "recipes_list_div = soup.find(\"div\", class_=\"GRID_ITEM\")\n",
    "\n",
    "#title=soup.find(\"div\", class_ =\"product-title\").text\n",
    "#title\n",
    "link_to_recipe = recipes_list_div.find('a')[\"href\"]\n",
    "print(link_to_recipe)\n",
    "#link_to_image = soup.find(\"img\",class_=\"product-img primary-img\")[\"src\"]\n",
    "#link_to_image\n",
    "about_recipe = recipes_list_div.find(\"div\", class_= \"spec-shortcuts\").text\n",
    "about_recipe\n",
    "price_equipment = recipes_list_div.find(\"span\", class_= \"price-value\").text\n",
    "price_equipment\n"
   ]
  },
  {
   "cell_type": "markdown",
   "metadata": {},
   "source": [
    "**labas**\n",
    "# h1\n",
    "## h2\n",
    "\n",
    "<h1></h1>\n",
    "<h2></h2>\n",
    "<b>labas</b>"
   ]
  },
  {
   "cell_type": "code",
   "execution_count": 191,
   "metadata": {},
   "outputs": [],
   "source": [
    "\n",
    "recipes_list_div = soup.find(\"div\", class_=\"ajax-container\")\n",
    "base_url=\"https://www.varle.lt\"\n",
    "all_recipes_div = recipes_list_div.find_all(\"div\", class_=\"GRID_ITEM\")\n",
    "\n",
    "results: List[Dict] = []\n",
    "for recipe_div in all_recipes_div:\n",
    "    #title = recipe_div.find(\"div\", class_=\"title\").text\n",
    "    #title = recipe_div.find(\"h3\").text\n",
    "    title=recipe_div.find(\"div\", class_ =\"product-title\").text\n",
    "    link_to_recipe = base_url + recipe_div.find(\"a\")[\"href\"]\n",
    "    link_to_image = recipe_div.find(\"img\",class_=\"product-img primary-img\")[\"src\"]\n",
    "    about_recipe = recipe_div.find(\"div\", class_= \"spec-shortcuts\").text\n",
    "    price_equipment = recipe_div.find(\"span\", class_= \"price-value\").text\n",
    "\n",
    "    results.append({\n",
    "        \"title\": title.strip(), \n",
    "        \"link_to_recipe\": link_to_recipe,\n",
    "        \"link_to_image\": link_to_image,\n",
    "        \"about_recipe\": about_recipe,\n",
    "        \"price_equipment\": price_equipment\n",
    "    })\n",
    "\n",
    "results_df = pd.DataFrame(results)\n",
    "results_df.to_csv(\"Varle.csv\")"
   ]
  },
  {
   "cell_type": "code",
   "execution_count": 197,
   "metadata": {},
   "outputs": [],
   "source": [
    "def extract_equipments_info(url: str) -> Optional[List[Dict]]:\n",
    "    resp = requests.get(url)\n",
    "    if resp.status_code != 200:\n",
    "        raise Exception(\"Cannot reach page!\")\n",
    "    soup = BeautifulSoup(resp.content, 'html.parser')\n",
    "    equipments_list_div = soup.find(\"div\", class_=\"ajax-container\")\n",
    "\n",
    "    if not equipments_list_div:\n",
    "        return None    \n",
    "    all_equipments_div = equipments_list_div.find_all(\"div\", class_=\"GRID_ITEM\")\n",
    "    results: List[Dict] = []\n",
    "    for equipment_div in all_equipments_div:\n",
    "        title=equipment_div.find(\"div\", class_ =\"product-title\").text\n",
    "        link_to_equipment = base_url + equipment_div.find(\"a\")[\"href\"]\n",
    "        link_to_image = equipment_div.find(\"img\",class_=\"product-img primary-img\")[\"src\"]\n",
    "        price_equipment = equipment_div.find(\"span\", class_= \"price-value\").text\n",
    "\n",
    "        results.append({\n",
    "            \"title\": title.strip(), \n",
    "            \"link_to_equipment\": link_to_equipment,\n",
    "            \"link_to_image\": link_to_image,\n",
    "            \"price_equipment\": price_equipment\n",
    "        })\n",
    "\n",
    "    return results"
   ]
  },
  {
   "cell_type": "code",
   "execution_count": 198,
   "metadata": {},
   "outputs": [],
   "source": [
    "equipments_links: List[Dict] = []\n",
    "\n",
    "for page in range(1, 4):\n",
    "    url = f\"https://www.varle.lt/kompiuterine-technika/?p={page}\"\n",
    "    equipments_links.extend(extract_equipments_info(url))\n",
    "\n",
    "pd.DataFrame(equipments_links).to_csv(\"Varlepsl.csv\")"
   ]
  },
  {
   "cell_type": "code",
   "execution_count": 13,
   "metadata": {},
   "outputs": [
    {
     "ename": "KeyError",
     "evalue": "'src'",
     "output_type": "error",
     "traceback": [
      "\u001b[0;31m---------------------------------------------------------------------------\u001b[0m",
      "\u001b[0;31mKeyError\u001b[0m                                  Traceback (most recent call last)",
      "Cell \u001b[0;32mIn [13], line 1\u001b[0m\n\u001b[0;32m----> 1\u001b[0m soup\u001b[39m.\u001b[39mfind(\u001b[39m\"\u001b[39m\u001b[39mdiv\u001b[39m\u001b[39m\"\u001b[39m)[\u001b[39m'\u001b[39m\u001b[39msrc\u001b[39m\u001b[39m'\u001b[39m]\n",
      "File \u001b[0;32m~/github/code_academy_ai_course/.venv/lib/python3.9/site-packages/bs4/element.py:1519\u001b[0m, in \u001b[0;36mTag.__getitem__\u001b[0;34m(self, key)\u001b[0m\n\u001b[1;32m   1516\u001b[0m \u001b[39mdef\u001b[39;00m \u001b[39m__getitem__\u001b[39m(\u001b[39mself\u001b[39m, key):\n\u001b[1;32m   1517\u001b[0m     \u001b[39m\"\"\"tag[key] returns the value of the 'key' attribute for the Tag,\u001b[39;00m\n\u001b[1;32m   1518\u001b[0m \u001b[39m    and throws an exception if it's not there.\"\"\"\u001b[39;00m\n\u001b[0;32m-> 1519\u001b[0m     \u001b[39mreturn\u001b[39;00m \u001b[39mself\u001b[39;49m\u001b[39m.\u001b[39;49mattrs[key]\n",
      "\u001b[0;31mKeyError\u001b[0m: 'src'"
     ]
    }
   ],
   "source": [
    "soup.find(\"div\")['src']"
   ]
  },
  {
   "cell_type": "markdown",
   "metadata": {},
   "source": [
    "## Info is puslapio"
   ]
  },
  {
   "cell_type": "code",
   "execution_count": 208,
   "metadata": {},
   "outputs": [],
   "source": [
    "resp = requests.get(\"https://www.varle.lt/ausines/zaidimu-ausines-logitech-g332-50mm-35mm-daugiaplatformes--14211536.html\")\n",
    "soup = BeautifulSoup(resp.content, \"html.parser\")\n",
    "\n",
    "equipment_title = soup.find(\"div\", class_=\"title-block\").find(\"h1\").text\n",
    "\n",
    "#main_equipment_image = soup.find(\"li\", class_=\"open-gallery-popup slick-slide slick-current slick-active\").find(\"img\").get(\"src\")\n",
    "main_equipment_image = soup.find(\"img\").get(\"src\")\n",
    "about_equipment= soup.find(\"div\", class_=\"PRODUCT_DESCRIPTION\").text\n",
    "\n"
   ]
  },
  {
   "cell_type": "code",
   "execution_count": 207,
   "metadata": {},
   "outputs": [],
   "source": [
    "specs_div = soup.find(\"div\", class_=\"PRODUCT_SPEC\")\n",
    "specs_table = specs_div.find(\"ul\")\n",
    "li_rows = specs_table.find_all(\"li\")\n",
    "specs: List[Dict] = []\n",
    "for li_row in li_rows:\n",
    "    spans = li_row.find_all(\"span\")\n",
    "    specs.append({\"Key\": spans[0].text.strip(), \"ammount\": spans[1].text.strip()})"
   ]
  },
  {
   "cell_type": "code",
   "execution_count": 83,
   "metadata": {},
   "outputs": [],
   "source": [
    "making_time = soup.find(\"div\", class_=\"method\").find(\"div\", class_=\"info\").text.strip().replace(\"Paruošimo laikas: \", \"\")"
   ]
  },
  {
   "cell_type": "code",
   "execution_count": 86,
   "metadata": {},
   "outputs": [],
   "source": [
    "making_steps: List[Dict] = []\n",
    "description_divs = soup.find(\"div\", class_=\"method\").find(\"div\", class_=\"infoA\").find_all(\"div\", class_=\"description\")\n",
    "for step, description_div in enumerate(description_divs):\n",
    "    making_steps.append({\"step\": step + 1, \"description\": description_div.find(\"div\", class_=\"text\").text})\n"
   ]
  },
  {
   "cell_type": "code",
   "execution_count": 209,
   "metadata": {},
   "outputs": [],
   "source": [
    "def get_equipment_info(url: str) -> Dict:\n",
    "    resp = requests.get(url)\n",
    "    soup = BeautifulSoup(resp.content, \"html.parser\")\n",
    "\n",
    "    equipment_title = soup.find(\"div\", class_=\"title-block\").find(\"h1\").text\n",
    "    main_equipment_image = soup.find(\"img\").get(\"src\")\n",
    "    about_equipment= soup.find(\"div\", class_=\"PRODUCT_DESCRIPTION\").text\n",
    "\n",
    "    #ingredients_div = soup.find(\"div\", class_=\"ingredients\")\n",
    "   # ingredients_table = ingredients_div.find(\"table\")\n",
    "   # tr_rows = ingredients_table.find_all(\"tr\")\n",
    "   # ingredients: List[Dict] = []\n",
    "   # try:\n",
    "   #     for tr_row in tr_rows:\n",
    "   #         spans = tr_row.find_all(\"span\")\n",
    "   #         ingredients.append({\"ingredient\": spans[1].text.strip(), \"ammount\": spans[0].text.strip()})\n",
    "   # except IndexError:\n",
    "   #     pass\n",
    "    specs_div = soup.find(\"div\", class_=\"PRODUCT_SPEC\")\n",
    "    specs_table = specs_div.find(\"ul\")\n",
    "    li_rows = specs_table.find_all(\"li\")\n",
    "    specs: List[Dict] = []\n",
    "    try:\n",
    "        for li_row in li_rows:\n",
    "            spans = li_row.find_all(\"span\")\n",
    "            specs.append({\"Key\": spans[0].text.strip(), \"ammount\": spans[1].text.strip()})\n",
    "    except IndexError:\n",
    "        pass\n",
    "\n",
    "    #making_time = soup.find(\"div\", class_=\"method\").find(\"div\", class_=\"info\").text.strip().replace(\"Paruošimo laikas: \", \"\")\n",
    "    #making_steps: List[Dict] = []\n",
    "    #description_divs = soup.find(\"div\", class_=\"method\").find(\"div\", class_=\"infoA\").find_all(\"div\", class_=\"description\")\n",
    "    #for step, description_div in enumerate(description_divs):\n",
    "    #    making_steps.append({\"step\": step + 1, \"description\": description_div.find(\"div\", class_=\"text\").text})\n",
    "\n",
    "    return {\n",
    "        \"title\": equipment_title.strip(),\n",
    "        \"image\": main_equipment_image,\n",
    "        \"about\": about_recipe.strip(),\n",
    "    #    \"making_time\": making_time,\n",
    "        \"specs\": specs\n",
    "    #    \"making_steps\": making_steps\n",
    "    }"
   ]
  },
  {
   "cell_type": "code",
   "execution_count": 210,
   "metadata": {},
   "outputs": [
    {
     "name": "stdout",
     "output_type": "stream",
     "text": [
      "{'title': 'Žaidimų ausinės Logitech G332, 50mm, 3,5mm, Daugiaplatformės', 'link_to_equipment': 'https://www.varle.lt/ausines/zaidimu-ausines-logitech-g332-50mm-35mm-daugiaplatformes--14211536.html', 'link_to_image': 'https://www.varle.lt/static/uploads/products/235x195/622/aus/ausines-logitech-g332-981-000757.jpg', 'price_equipment': '\\n\\n34.99\\n\\xa0€\\n'}\n",
      "{'title': 'Belaidės Ausinės Razer Hammerhead True Wireless X | Mobile', 'link_to_equipment': 'https://www.varle.lt/ausines/belaides-ausines-razer-hammerhead-true-belaides-x--16532010.html', 'link_to_image': 'https://www.varle.lt/static/uploads/products/235x195/1103/bev/bevieles-zaidimu-ausines-razer-hammerhead.jpg', 'price_equipment': '\\n\\n59.99\\n\\xa0€\\n'}\n",
      "{'title': 'Žaidimų kėdė Sense7 Spellcaster Gaming Chair, Juoda-pilka', 'link_to_equipment': 'https://www.varle.lt/zaidimu-gaming-kedes/zaidimu-kede-sense7-spellcaster-gaming-chair-juoda-pilka--16456622.html', 'link_to_image': 'https://www.varle.lt/static/uploads/products/235x195/605/zai/zaidimu-kede-sense7-spellcaster-gaming-chair_X2BIAaj.jpg', 'price_equipment': '\\n\\n139.99\\n\\xa0€\\n'}\n",
      "{'title': 'Žaidimų ausinės HyperX Cloud II (Raudonos) USB control box with DSP sound card, Virtual Dolby 7.1 Surround', 'link_to_equipment': 'https://www.varle.lt/ausines/zaidimu-ausines-hyperx-cloud-ii-raudonos-usb-control--7386811.html', 'link_to_image': 'https://www.varle.lt/static/uploads/products/235x195/206/zai/zaidimu-ausines-hyperx-cloud-ii-raudonos.jpeg', 'price_equipment': '\\n\\n69.99\\n\\xa0€\\n'}\n",
      "{'title': 'Laidinė Ergonomiška pelė Razer DeathAdder V2, Chroma, Juoda', 'link_to_equipment': 'https://www.varle.lt/peles/laidine-ergonomiska-pele-razer-death-adder-v2-chroma--13283439.html', 'link_to_image': 'https://www.varle.lt/static/uploads/products/235x195/605/lai/laidine-ergonomiska-pele-razer-deathadder.jpeg', 'price_equipment': '\\n\\n39.99\\n\\xa0€\\n'}\n",
      "{'title': 'Belaidė itin tyli pelė Xiaomi Mi Dual Mode Silent Edition, juoda', 'link_to_equipment': 'https://www.varle.lt/peles/belaide-itin-tyli-pele-xiaomi-mi-dual-mode-silent--14036988.html', 'link_to_image': 'https://www.varle.lt/static/uploads/products/235x195/4/xia/xiaomi-mi-dual-mode-belaide-pele-silent_DJJwQem.png', 'price_equipment': '\\n\\n14.99\\n\\xa0€\\n'}\n",
      "{'title': 'Spausdintuvas/Kopijuoklis/Skeneris PIXMA TS3150/WIFI Juodas 2226C006 CANON', 'link_to_equipment': 'https://www.varle.lt/spausdintuvai/spausdintuvas-printercopscan-pixma-ts3150wifi-juodas--7401383.html', 'link_to_image': 'https://www.varle.lt/static/uploads/products/235x195/143/spa/spausdintuvas-canon-pixma-ts3150-2226c006aa.jpeg', 'price_equipment': '\\n\\n69.89\\n\\xa0€\\n'}\n",
      "{'title': 'Monitorius LG 24MP60G-B, 24 colių/Gaming/ Full HD / IPS', 'link_to_equipment': 'https://www.varle.lt/monitoriai/monitorius-lg-24mp60g-b--16134744.html', 'link_to_image': 'https://www.varle.lt/static/uploads/products/235x195/622/mon/monitorius-lg-24mp60g-b.jpg', 'price_equipment': '\\n\\n128.90\\n\\xa0€\\n'}\n",
      "{'title': 'Stacionarus kompiuteris Actina /ASUS TUF GAMING B550M-PLUS / GeForce RTX 3060 / Patriot Memory PVS416G360C7K / WD BLUE WDS100T3B0C / SilentiumPC Fera 5 Dual Fan / be quiet Pure Power 11 FM / ASUS TUF GAMING GT301', 'link_to_equipment': 'https://www.varle.lt/stacionarus-kompiuteriai/stacionarus-kompiuteris-pc-actina-pba-5600x161tbrtx3060--19050890.html', 'link_to_image': 'https://www.varle.lt/static/uploads/products/235x195/2/act/actina-5901443280569-pc-ddr4-sdram-5600x.jpg', 'price_equipment': '\\n\\n1351.99\\n\\xa0€\\n'}\n",
      "{'title': 'Žaidimų kėdė Sense7 Sentinel fabric Gaming Chair, Juoda', 'link_to_equipment': 'https://www.varle.lt/zaidimu-gaming-kedes/zaidimu-kede-sense7-sentinel-fabric-gaming-chair--16442991.html', 'link_to_image': 'https://www.varle.lt/static/uploads/products/235x195/622/zai/zaidimu-kede-sense7-sentinel-fabric-gaming_RBkY9l1.jpg', 'price_equipment': '\\n\\n179.99\\n\\xa0€\\n'}\n",
      "{'title': 'Monitorius SAMSUNG LC24F390FHRXEN 24\"/Business/Curved/Panel VA/FHD/16:9/Juodas', 'link_to_equipment': 'https://www.varle.lt/monitoriai/monitorius-samsung-c24f390-lc24f390fhrxen--15374978.html', 'link_to_image': 'https://www.varle.lt/static/uploads/products/235x195/2/sam/samsung-c24f390fhr-61-cm-24-1920-x-1080.jpeg', 'price_equipment': '\\n\\n121.87\\n\\xa0€\\n'}\n",
      "{'title': 'Razer Viper itin lengva laidinė žaidimų pelė, Juoda', 'link_to_equipment': 'https://www.varle.lt/peles/razer-viper-itin-lengva-laidine-zaidimu-pele-chroma--11749127.html', 'link_to_image': 'https://www.varle.lt/static/uploads/products/235x195/1103/zai/zaidimu-pele-razer-viper-juodas-juoda.png', 'price_equipment': '\\n\\n44.99\\n\\xa0€\\n'}\n",
      "{'title': 'Žaidimų ausinės HyperX Cloud Alpha Pro, skirta PC PS4 Xbox One Nintendo Switch', 'link_to_equipment': 'https://www.varle.lt/ausines/zaidimu-ausines-hyperx-cloud-alpha-pro-skirta-pc--19387313.html', 'link_to_image': 'https://www.varle.lt/static/uploads/products/235x195/12/aus/ausines-headset-hyperx-cloud-alpha-red-hx-hsca-rd-em.Jpeg', 'price_equipment': '\\n\\n69.99\\n\\xa0€\\n'}\n",
      "{'title': 'Žaidimų kėdė Sense7 Prism Gaming Chair, Juoda-raudona', 'link_to_equipment': 'https://www.varle.lt/zaidimu-gaming-kedes/zaidimu-kede-sense7-prism-gaming-chair-juoda-raudona--15322571.html', 'link_to_image': 'https://www.varle.lt/static/uploads/products/235x195/605/zai/zaidimu-kede-sense7-prism-gaming-chair_AREUQOd.jpg', 'price_equipment': '\\n\\n89.99\\n\\xa0€\\n'}\n",
      "{'title': 'Žaidimų ausinės SteelSeries Arctis 9, Lossless 2.4 GHz belaidės + Bluetooth', 'link_to_equipment': 'https://www.varle.lt/ausines/zaidimu-ausines-steelseries-arctis-9-lossless-24--14392634.html', 'link_to_image': 'https://www.varle.lt/static/uploads/products/235x195/814/ste/steelseries-arctis-9-24ghzbluetooth.jpg', 'price_equipment': '\\n\\n170.95\\n\\xa0€\\n'}\n",
      "{'title': 'Žaidimų kėdė Sense7 Sentinel fabric  Gaming Chair, Juoda-pilka', 'link_to_equipment': 'https://www.varle.lt/zaidimu-gaming-kedes/zaidimu-kede-sense7-sentinel-fabric-gaming-chair--16489503.html', 'link_to_image': 'https://www.varle.lt/static/uploads/products/235x195/402/sen/sense7-gaming-fabric-sentinel-office-chair_k6TrWfH.jpg', 'price_equipment': '\\n\\n179.99\\n\\xa0€\\n'}\n",
      "{'title': 'Žaidimų kompiuteris MSI GF66  15.6\" FullHD IPS 144Hz / Intel Core i7-11800H iki 4.6Ghz / 16GB RAM / 512GB SSD PCIe / GeForce RTX3070 8Gb / USB C / HDMI / WiFi AX / šviečianti klaviatūra', 'link_to_equipment': 'https://www.varle.lt/nesiojami-kompiuteriai/nesiojami-kompiuteriai/nesiojamas-kompiuteris-msi-gf66-katana-11ug-220---17006432.html', 'link_to_image': 'https://www.varle.lt/static/uploads/products/235x195/281/nes/nesiojamas-kompiuteris-msi-gf66-katana-11ug-220.jpg', 'price_equipment': '\\n\\n1349\\xa0€\\n'}\n",
      "{'title': 'Žaidimų kėdė Sense7 Prism Gaming Chair, Juoda-mėlyna', 'link_to_equipment': 'https://www.varle.lt/zaidimu-gaming-kedes/zaidimu-kede-sense7-prism-gaming-chair-juoda-melyna--16451448.html', 'link_to_image': 'https://www.varle.lt/static/uploads/products/235x195/605/zai/zaidimu-kede-sense7-prism-gaming-chair_VStYW1T.jpg', 'price_equipment': '\\n\\n89.99\\n\\xa0€\\n'}\n",
      "{'title': 'Žaidimų kėdė Sense7 Spellcaster Gaming Chair, Juoda-mėlyna', 'link_to_equipment': 'https://www.varle.lt/zaidimu-gaming-kedes/zaidimu-kede-sense7-spellcaster-gaming-chair-juoda-melyna--15831388.html', 'link_to_image': 'https://www.varle.lt/static/uploads/products/235x195/622/zai/zaidimu-kede-sense7-spellcaster-gaming-chair_y9GGXCu.jpg', 'price_equipment': '\\n\\n139.99\\n\\xa0€\\n'}\n",
      "{'title': 'Žaidimų kėdė Sense7 Sentinel fabric  Gaming Chair, Juoda-raudona', 'link_to_equipment': 'https://www.varle.lt/zaidimu-gaming-kedes/zaidimu-kede-sense7-sentinel-fabric-gaming-chair--16489502.html', 'link_to_image': 'https://www.varle.lt/static/uploads/products/235x195/402/sen/sense7-gaming-fabric-sentinel-office-chair.jpg', 'price_equipment': '\\n\\n179.99\\n\\xa0€\\n'}\n",
      "{'title': 'Žaidimų kėdė Sense7 Sentinel fabric  Gaming Chair, Juoda-mėlyna', 'link_to_equipment': 'https://www.varle.lt/zaidimu-gaming-kedes/zaidimu-kede-sense7-sentinel-fabric-gaming-chair--16489504.html', 'link_to_image': 'https://www.varle.lt/static/uploads/products/235x195/605/zai/zaidimu-kede-sense7-sentinel-fabric-gaming_9HlFaX6.jpg', 'price_equipment': '\\n\\n179.99\\n\\xa0€\\n'}\n",
      "{'title': 'Lengva Žaidimų Pelė SteelSeries Prime, TrueMove Pro jutiklis + Dovana pelės kilimėlis Natec UGO', 'link_to_equipment': 'https://www.varle.lt/peles/lengva-zaidimu-pele-steelseries-prime-truemove-pro--15982264.html', 'link_to_image': 'https://www.varle.lt/static/uploads/products/235x195/281/ste/steelseries-prime-pele-zaidimams-juodas.jpg', 'price_equipment': '\\n\\n43.27\\n\\xa0€\\n'}\n",
      "{'title': 'Žaidimų kėdė Sense7 Prism Gaming Chair, Juoda-pilka', 'link_to_equipment': 'https://www.varle.lt/zaidimu-gaming-kedes/zaidimu-kede-sense7-prism-gaming-chair-juoda-pilka--16456623.html', 'link_to_image': 'https://www.varle.lt/static/uploads/products/235x195/605/zai/zaidimu-kede-sense7-prism-gaming-chair_ol5Kr37.jpg', 'price_equipment': '\\n\\n89.99\\n\\xa0€\\n'}\n",
      "{'title': 'Žaidimų kėdė White Shark Monza-Y Gaming Chair, Geltona', 'link_to_equipment': 'https://www.varle.lt/zaidimu-gaming-kedes/zaidimu-kede-white-shark-monza-y-gaming-chair-geltona--15229447.html', 'link_to_image': 'https://www.varle.lt/static/uploads/products/235x195/307/whi/white-shark-baltas-shark-monza-y-zaidimu_iZtiqme.jpg', 'price_equipment': '\\n\\n265.29\\n\\xa0€\\n'}\n",
      "{'title': 'Žaidimų kėdė Canyon Corax GC-5 Gaming Chair', 'link_to_equipment': 'https://www.varle.lt/zaidimu-gaming-kedes/zaidimu-kede-canyon-corax-gc-5-gaming-chair--10272906.html', 'link_to_image': 'https://www.varle.lt/static/uploads/products/235x195/7/can/canyon-gaming-chair-pu-leather-cold-molded.jpg', 'price_equipment': '\\n\\n229.89\\n\\xa0€\\n'}\n",
      "{'title': 'Žaidimų kėdė Sense7 Spellcaster Gaming Chair, Juoda-Raudona', 'link_to_equipment': 'https://www.varle.lt/zaidimu-gaming-kedes/zaidimu-kede-sense7-spellcaster-zaidimu-kede-juoda-raudona--15470280.html', 'link_to_image': 'https://www.varle.lt/static/uploads/products/235x195/605/zai/zaidimu-kede-sense7-spellcaster-gaming-chair_qUf2O1K.jpg', 'price_equipment': '\\n\\n129.99\\n\\xa0€\\n'}\n",
      "{'title': 'Monitorius LG UltraGear™ 32GN600-B /31.5\"/Gaming/Panel VA/2560x1440/16:9/165Hz/1 ms/AMD FreeSync™ Premium', 'link_to_equipment': 'https://www.varle.lt/monitoriai/monitorius-32-lg-32gn600-baeu-32gn600-baeu--15459201.html', 'link_to_image': 'https://www.varle.lt/static/uploads/products/235x195/4/lg-/lg-gaming-monitorius-32gn600-b-315-va.png', 'price_equipment': '\\n\\n256.55\\n\\xa0€\\n'}\n",
      "{'title': 'Lengva Žaidimų Pelė SteelSeries Prime+, TrueMove Pro+ jutiklis + Dovana pelės kilimėlis Natec UGO', 'link_to_equipment': 'https://www.varle.lt/peles/lengva-zaidimu-pele-steelseries-prime-truemove-pro--15982263.html', 'link_to_image': 'https://www.varle.lt/static/uploads/products/235x195/402/ste/steelseries-prime-esports-performance.jpg', 'price_equipment': '\\n\\n53.34\\n\\xa0€\\n'}\n",
      "{'title': 'Planšetinis kompiuteris Apple iPad Air 10.9\" MYGY2HC/A Cellular', 'link_to_equipment': 'https://www.varle.lt/plansetiniai-kompiuteriai/plansete-plans-ipad-air-109-mygy2hca-cellular--19538818.html', 'link_to_image': 'https://www.varle.lt/static/uploads/products/235x195/605/pla/plansete-apple-plans-ipad-air-109-mygy2hc-a.png', 'price_equipment': '\\n\\n579\\xa0€\\n'}\n",
      "{'title': 'Stacionarus kompiuteris ACTINA / ASUS PRIME B550M-A / AMD Radeon RX 6500 XT / ADATA XPG Spectrix D60 / WD Blue WDS500G2B0C / SilentiumPC Fera 5 ARGB (SPC305) / SilentiumPC Stella HP ARGB 120 / SilentiumPC Vero L3 / SilentiumPC Ventum VT4 TG', 'link_to_equipment': 'https://www.varle.lt/stacionarus-kompiuteriai/stacionarus-kompiuteris-actina-spc-pc-ddr4-sdram-i5-10400f--19050900.html', 'link_to_image': 'https://www.varle.lt/static/uploads/products/235x195/2/sta/stacionarus-kompiuteris-actina-pc-ddr4-sdram_t2PFtCj.jpg', 'price_equipment': '\\n\\n869.99\\n\\xa0€\\n'}\n",
      "{'title': 'Žaidimų kompiuteris Lenovo IdeaPad Gaming 3 15.6\" FullHD IPS 120Hz / AMD Ryzen 5 5600H iki 4.2Ghz / 512Gb SSD PCIe / 8Gb RAM DDR4 / GeForce RTX3050 4Gb / WiFi AX / USB C / šviečianti klaviatūra', 'link_to_equipment': 'https://www.varle.lt/nesiojami-kompiuteriai/nesiojami-kompiuteriai/lenovo-ideapad-gaming-3-15ach6-ryzen-5-5600h-156--18296342.html', 'link_to_image': 'https://www.varle.lt/static/uploads/products/235x195/2/len/lenovo-ideapad-gaming-3-15ach6-ryzen-5-5600h_pKYH1sT.jpeg', 'price_equipment': '\\n\\n799\\xa0€\\n'}\n",
      "{'title': 'Žaidimų stalas Ultradesk Force Gaming Desk, LED RGB Prismatic, Juodas', 'link_to_equipment': 'https://www.varle.lt/kompiuteriniu-zaidimu-stalai/zaidimu-stalas-ultradesk-force-gaming-desk-led-rgb--16309627.html', 'link_to_image': 'https://www.varle.lt/static/uploads/products/235x195/622/zai/zaidimu-stalas-ultradesk-force-gaming-desk_sgM4Jk1.png', 'price_equipment': '\\n\\n349\\xa0€\\n'}\n",
      "{'title': 'Nešiojamas kompiuteris Asus E510MA 15.6\" HD / Intel Pentium Silver N5030 iki 3.1Ghz / 4Gb RAM / 256Gb SSD / WiFi / HDMI / USB 3.2', 'link_to_equipment': 'https://www.varle.lt/nesiojami-kompiuteriai/nesiojami-kompiuteriai/nesiojamas-kompiuteris-asus-e510ma-br889-n50304256uhd605--20712256.html', 'link_to_image': 'https://www.varle.lt/static/uploads/products/235x195/605/nes/nesiojamas-kompiuteris-asus-e510ma-156.png', 'price_equipment': '\\n\\n249\\xa0€\\n'}\n",
      "{'title': 'Žaidimų stalas Ultradesk Cruiser Gaming Desk, Reguliuojamo aukščio 660-812mm, Juodas su juodos spalvos kilimėliu', 'link_to_equipment': 'https://www.varle.lt/kompiuteriniu-zaidimu-stalai/zaidimu-stalas-ultradesk-cruiser-gaming-desk-reguliuojamo--17056560.html', 'link_to_image': 'https://www.varle.lt/static/uploads/products/235x195/622/zai/zaidimu-stalas-ultradesk-cruiser-gaming.png', 'price_equipment': '\\n\\n199\\xa0€\\n'}\n",
      "{'title': 'Monitorius  HP V27i FHD Monitor/IPS/1x VGA/1x HDMI 1.4', 'link_to_equipment': 'https://www.varle.lt/monitoriai/monitorius-hp-v27i-fhd-686-cm-27quot-ips-skydelis--18616174.html', 'link_to_image': 'https://www.varle.lt/static/uploads/products/235x195/281/mon/monitorius-hp-v27i-fhd-686-cm-27-col.jpg', 'price_equipment': '\\n\\n169.89\\n\\xa0€\\n'}\n",
      "{'title': 'Monitorius  MSI Modern MD241PDE 23.8” (60cm) Business monitor /IPS panel/ 1920x1080 (FHD)/16:9', 'link_to_equipment': 'https://www.varle.lt/monitoriai/msi-modern-md241pde-biuro-monitorius-full-hd-reguliuojamas--16850249.html', 'link_to_image': 'https://www.varle.lt/static/uploads/products/235x195/281/mon/monitorius-msi-modern-md241pde-605-cm.jpg', 'price_equipment': '\\n\\n209\\xa0€\\n'}\n",
      "{'title': 'Žaidimų stalas Ultradesk Cruiser Gaming Desk, Reguliuojamo aukščio 660-812mm, Juodas su raudonos spalvos kilimėliu', 'link_to_equipment': 'https://www.varle.lt/kompiuteriniu-zaidimu-stalai/zaidimu-stalas-ultradesk-cruiser-gaming-desk-reguliuojamo--18795589.html', 'link_to_image': 'https://www.varle.lt/static/uploads/products/235x195/622/zai/zaidimu-stalas-ultradesk-cruiser-gaming_tCRZ8w2.png', 'price_equipment': '\\n\\n199\\xa0€\\n'}\n",
      "{'title': 'Monitorius Asus Gaming LCD VG27BQ 27 \"/TN/WQHD/2560 x 1440/16:9/0.4 ms/350 cd/m²', 'link_to_equipment': 'https://www.varle.lt/monitoriai/monitorius-asus-686cm-gaming-vg27bq-dphdmi-g-fsync--11378510.html', 'link_to_image': 'https://www.varle.lt/static/uploads/products/235x195/4/mon/monitorius-asus-gaming-lcd-vg27bq-27.jpeg', 'price_equipment': '\\n\\n279\\xa0€\\n'}\n",
      "{'title': 'Monitorius MSI Optix G27C6P 27\" (69cm)/FHD 1920 x 1080/VA/165Hz/1ms/16:9/FreeSync premium', 'link_to_equipment': 'https://www.varle.lt/monitoriai/msi-optix-g27c6p-monitorius--18370767.html', 'link_to_image': 'https://www.varle.lt/static/uploads/products/235x195/2/mon/monitorius-msi-optix-g27c6p.jpeg', 'price_equipment': '\\n\\n199.98\\n\\xa0€\\n'}\n",
      "{'title': 'Stacionarus kompiuteris Actina / ASUS PRIME B660M-A D4 / NVIDIA GeForce RTX 3060 / ADATA XPG Spectrix D60 / WD Blue WDS100T2B0C / SilentiumPC Fortis 5 ARGB / SilentiumPC Fluctus 120 / SilentiumPC Vero M3 / SilentiumPC Ventum VT4 TG', 'link_to_equipment': 'https://www.varle.lt/stacionarus-kompiuteriai/stacionarus-kompiuteris-pc-actina-spc-i5-12400f161tbrtx3060--19050895.html', 'link_to_image': 'https://www.varle.lt/static/uploads/products/235x195/2/act/actina-5901443303091-pc-ddr4-sdram-i5-12400f.jpeg', 'price_equipment': '\\n\\n1141.97\\n\\xa0€\\n'}\n",
      "{'title': 'Adapteris Fusion Accessories CM20 3.5 mm to USB-C Audio Adapteris Baltas (OEM)', 'link_to_equipment': 'https://www.varle.lt/audio-video-kabeliai/adapteris-fusion-accessories-cm20-35-mm-to-usb-c--15510801.html', 'link_to_image': 'https://www.varle.lt/static/uploads/products/235x195/981/fus/fusion-accessories-fusion-cm20-35-mm-i.png', 'price_equipment': '\\n\\n3.99\\n\\xa0€\\n'}\n",
      "{'title': 'Stacionarus kompiuteris Actina /ASUS PRIME B550M-A / NVIDIA GeForce RTX 3050 / ADATA XPG Spectrix D60 / WD BLUE WDS100T3B0C / SilentiumPC FERA 5 / CHIEFTEC GPS-600A8 / ASUS TUF GAMING GT301', 'link_to_equipment': 'https://www.varle.lt/stacionarus-kompiuteriai/stacionarus-kompiuteris-actina-pba-pc-ddr4-sdram-3600--19050902.html', 'link_to_image': 'https://www.varle.lt/static/uploads/products/235x195/2/sta/stacionarus-komiuteris-actina-pc-ddr4-sdram.jpg', 'price_equipment': '\\n\\n1139\\xa0€\\n'}\n",
      "{'title': 'Monitorius ASUS TUF Gaming VG258QM 24.5inch WLED TN FHD 1920x1080 16:9 1000:1 400cd/m2 280Hz 0.5ms GTG 2xHDMI 1xDP', 'link_to_equipment': 'https://www.varle.lt/monitoriai/monitorius-asus-tuf-gaming-vg258qm-245inch-wled-tn--15443167.html', 'link_to_image': 'https://www.varle.lt/static/uploads/products/235x195/710/mon/monitorius-asus-25-led-vg258qm-gaming.jpg', 'price_equipment': '\\n\\n293.29\\n\\xa0€\\n'}\n",
      "{'title': 'Monitorius Samsung Odyssey G3 S24AG322NU  FHD/VA/16:9/165Hz/AMD FreeSync Premium', 'link_to_equipment': 'https://www.varle.lt/monitoriai/monitorius-10063-samsung-odyssey-g3-s24ag322nu--18859544.html', 'link_to_image': 'https://www.varle.lt/static/uploads/products/235x195/281/sam/samsung-odyssey-g3a-s24ag322nu-zaidimu-monitorius.jpg', 'price_equipment': '\\n\\n169\\xa0€\\n'}\n",
      "{'title': 'Ausinės HUAWEI FreeBuds Pro 2, Didelės skiriamosios gebos dvigubo garso sistema, Išmanusis aktyvaus triukšmo slopinima, Pokalbiai be jokių trikdžių, keraminės baltos spalvos', 'link_to_equipment': 'https://www.varle.lt/ausines/ausines-huawei-freebuds-pro-2-dideles-skiriamosios--19355869.html', 'link_to_image': 'https://www.varle.lt/static/uploads/products/235x195/206/aus/ausines-huawei-freebuds-pro-2-dideles-skiriamosios.jpg', 'price_equipment': '\\n\\n139.99\\n\\xa0€\\n'}\n",
      "{'title': 'D-Link USB-C ir 2,5G Ethernet adapteris DUB-E250', 'link_to_equipment': 'https://www.varle.lt/adapteriai/d-link-dlink-usb-c-to-25g-ethernet-adapter-dub-e250--15380683.html', 'link_to_image': 'https://www.varle.lt/static/uploads/products/235x195/281/d-l/d-link-usb-c-ir-25g-ethernet-adapteris_Z25xyf4.png', 'price_equipment': '\\n\\n35.99\\n\\xa0€\\n'}\n",
      "{'title': 'Epson A4 dvipusis daugiafunkcis spausdintuvas WorkForce Pro WF-C4810DTWF, Baltas', 'link_to_equipment': 'https://www.varle.lt/spausdintuvai/spausdintuvas-epson-daugiafunkcis-irenginys-workforce--18673008.html', 'link_to_image': 'https://www.varle.lt/static/uploads/products/235x195/622/eps/epson-a4-dvipusis-daugiafunkcis-spausdintuvas.png', 'price_equipment': '\\n\\n284.39\\n\\xa0€\\n'}\n",
      "{'title': 'Stacionarus kompiuteris Actina/ASRock B450M PRO4 R2.0 / AMD Radeon RX 6600 / ADATA XPG Spectrix D60 / WD BLUE WDS100T3B0C / SilentiumPC Fera 5 ARGB (SPC305) / SilentiumPC Stella HP ARGB / CHIEFTEC GPS-600A8 / SilentiumPC Ventum VT4 TG', 'link_to_equipment': 'https://www.varle.lt/stacionarus-kompiuteriai/stacionarus-kompiuteris-actina-spc-pc-ddr4-sdram-3600--19055410.html', 'link_to_image': 'https://www.varle.lt/static/uploads/products/235x195/2/sta/stacionarus-kompiuteris-actina-pc-ddr4-sdram.jpg', 'price_equipment': '\\n\\n827.64\\n\\xa0€\\n'}\n",
      "{'title': 'Monitorius LG 43UN700-B 4K UHD, 3840 x 2160, IPS, 16:9, 8 ms, 400 cd/m², 60 Hz, HDMI', 'link_to_equipment': 'https://www.varle.lt/monitoriai/monitorius-lg-43un700-b-4k-uhd-3840-x-2160-ips--14225293.html', 'link_to_image': 'https://www.varle.lt/static/uploads/products/235x195/622/mon/monitorius-lg-43un700-b.jpg', 'price_equipment': '\\n\\n490.05\\n\\xa0€\\n'}\n",
      "{'title': 'Stacionarus kompiuteris Actina/ASUS PRIME B560M-A / NVIDIA GeForce RTX 3050 / ADATA XPG Spectrix D60 / WD BLUE WDS100T3B0C / SilentiumPC FERA 5 / CHIEFTEC GPS-600A8 / ASUS TUF GAMING GT301', 'link_to_equipment': 'https://www.varle.lt/stacionarus-kompiuteriai/stacionarus-kompiuteris-pc-actina-pba-i5-11400f161tbrtx3050--19050901.html', 'link_to_image': 'https://www.varle.lt/static/uploads/products/235x195/605/sta/stacionarus-kompiuteris-pc-actina-pba-i5-11400f-16-1tb-rtx3050-.jpg', 'price_equipment': '\\n\\n1151.99\\n\\xa0€\\n'}\n",
      "{'title': 'Naujiena! Žaidimų kėdė Sense7 Spellcaster Senshi Edition Gaming Chair, Balta', 'link_to_equipment': 'https://www.varle.lt/zaidimu-gaming-kedes/naujiena-zaidimu-kede-sense7-spellcaster-senshi-edition--21159281.html', 'link_to_image': 'https://www.varle.lt/static/uploads/products/235x195/622/fot/fotel-sense7-spellcaster-senshi-edition.jpg', 'price_equipment': '\\n\\n155.99\\n\\xa0€\\n'}\n",
      "{'title': 'Žaidimų kompiuteris Lenovo Legion 5 15.6\" FullHD IPS 165Hz G-SYNC / AMD Ryzen 7 5800H iki 4.4Ghz / 512Gb SSD PCIe / 16Gb RAM DDR4 / GeForce RTX3070 8Gb / WiFi AX / USB C / šviečianti klaviatūra / Windows 10', 'link_to_equipment': 'https://www.varle.lt/nesiojami-kompiuteriai/nesiojami-kompiuteriai/nesiojamas-kompiuteris-lenovo-legion-5-15ach6h-r7--21137435.html', 'link_to_image': 'https://www.varle.lt/static/uploads/products/235x195/605/zai/zaidimu-kompiuteris-lenovo-legion-5-156_xJWnnOP.png', 'price_equipment': '\\n\\n1499\\xa0€\\n'}\n",
      "{'title': 'Razer Ausinės su laidu Žaidimams su USB Audio Controller, Analog 3.5 mm, Kraken Tournament Edition, USB, Žalias, Su mikrofonu', 'link_to_equipment': 'https://www.varle.lt/ausines/razer-ausines-su-laidu-zaidimams-with-usb-audio-controller--17441832.html', 'link_to_image': 'https://www.varle.lt/static/uploads/products/235x195/542/raz/razer-headset-kraken-tournament-zalias.jpg', 'price_equipment': '\\n\\n74.99\\n\\xa0€\\n'}\n",
      "{'title': 'Naujiena! Žaidimų kėdė Sense7 Spellcaster Senshi Edition fabric Gaming Chair, Pilka', 'link_to_equipment': 'https://www.varle.lt/zaidimu-gaming-kedes/naujiena-zaidimu-kede-sense7-spellcaster-senshi-edition--21159279.html', 'link_to_image': 'https://www.varle.lt/static/uploads/products/235x195/622/fot/fotel-sense7-spellcaster-materiaowy-senshi.jpg', 'price_equipment': '\\n\\n155.99\\n\\xa0€\\n'}\n",
      "{'title': 'Žaidimų kėdė ByteZone Racer PRO Gaming Chair, Mėlyna', 'link_to_equipment': 'https://www.varle.lt/zaidimu-gaming-kedes/zaidimu-kede-bytezone-racer-pro-gaming-chair-melyna--17753134.html', 'link_to_image': 'https://www.varle.lt/static/uploads/products/235x195/605/zai/zaidimu-kede-bytezone-racer-pro-gaming-chair.jpg', 'price_equipment': '\\n\\n138.89\\n\\xa0€\\n'}\n",
      "{'title': 'HyperX Pulsefire Mat - Žaidimų pelės kilimėlis, L dydžio, 450mm x 400mm', 'link_to_equipment': 'https://www.varle.lt/peliu-kilimeliai/peles-kilimelis-hyperx-pulsefirel-hyperx--20730271.html', 'link_to_image': 'https://www.varle.lt/static/uploads/products/235x195/605/hyp/hyperx-pulsefire-mat-zaidimu-peles-kilimelis.png', 'price_equipment': '\\n\\n15.99\\n\\xa0€\\n'}\n",
      "{'title': 'Nešiojamas kompiuteris Apple MacBook Air M2 8C/8/512/US Z1610006V Midnight', 'link_to_equipment': 'https://www.varle.lt/nesiojami-kompiuteriai/nesiojami-kompiuteriai/nesiojamas-kompiuteris-apple-macbook-air-m2-8c8512us--20782851.html', 'link_to_image': 'https://www.varle.lt/static/uploads/products/235x195/605/nes/nesiojamas-kompiuteris-apple-macbook-air.jpg', 'price_equipment': '\\n\\n1729\\xa0€\\n'}\n",
      "{'title': 'Esports THX Spatial Audio Žaidimų Ausinės Razer BlackShark V2 + USB garso plokštė, Juodos', 'link_to_equipment': 'https://www.varle.lt/ausines/esports-thx-spatial-audio-zaidimu-ausines-razer-balckshark--14571400.html', 'link_to_image': 'https://www.varle.lt/static/uploads/products/235x195/292/raz/razer-blackshark-v2-headset-head-band.jpeg', 'price_equipment': '\\n\\n82.39\\n\\xa0€\\n'}\n",
      "{'title': 'Nešiojamas kompiuteris Apple MacBook Air M2 8C/8/512/macOS Z15Z0006V Starlight', 'link_to_equipment': 'https://www.varle.lt/nesiojami-kompiuteriai/nesiojami-kompiuteriai/nesiojamas-kompiuteris-apple-macbook-air-m2-8c8512macos--20782852.html', 'link_to_image': 'https://www.varle.lt/static/uploads/products/235x195/605/nes/nesiojamas-kompiuteris-apple-macbook-air_YgExiG0.jpg', 'price_equipment': '\\n\\n1729\\xa0€\\n'}\n",
      "{'title': 'HyperX Pulsefire Mat - Žaidimų pelės kilimėlis, M dydžio, 360 mm x 300 mm', 'link_to_equipment': 'https://www.varle.lt/peliu-kilimeliai/hyperx-pulsefire-mat-zaidimu-peles-kilimelis-m--20856184.html', 'link_to_image': 'https://www.varle.lt/static/uploads/products/235x195/605/hyp/hyperx-pulsefire-mat-zaidimu-peles-kilimelis_grj5DSw.png', 'price_equipment': '\\n\\n12.99\\n\\xa0€\\n'}\n",
      "{'title': 'Žaidimų kėdė ByteZone Racer PRO Gaming Chair, Raudona', 'link_to_equipment': 'https://www.varle.lt/zaidimu-gaming-kedes/zaidimu-kede-bytezone-racer-pro-gaming-chair-raudona--17753129.html', 'link_to_image': 'https://www.varle.lt/static/uploads/products/235x195/605/zai/zaidimu-kede-bytezone-racer-pro-gaming-chair_EsTmwb5.jpg', 'price_equipment': '\\n\\n130.99\\n\\xa0€\\n'}\n",
      "{'title': 'Žaidimų kompiuteris Acer Nitro 5 15.6\" QHD IPS 165 Hz / AMD Ryzen 7 5800H iki 4.4Ghz / 1Tb SSD PCIe / 16Gb RAM DDR4 / GeForce RTX3080 8Gb / WiFi AX / USB C / Windows 11', 'link_to_equipment': 'https://www.varle.lt/nesiojami-kompiuteriai/nesiojami-kompiuteriai/nesiojamas-kompiuteris-acer-nitro-5-an515-45-r588--16008123.html', 'link_to_image': 'https://www.varle.lt/static/uploads/products/235x195/281/nes/nesiojamas-kompiuteris-acer-nitro-5-an515-45-r588_FHhtgYC.jpg', 'price_equipment': '\\n\\n1699\\xa0€\\n'}\n",
      "{'title': 'Stacionarus kompiuteris Actina/Gigabyte B560M DS3H V2 / GeForce RTX 3060 Ti / ADATA XPG Spectrix D60 / WD BLUE WDS100T3B0C / SilentiumPC Fera 5 ARGB (SPC305) / SilentiumPC Vero L3 / SilentiumPC Ventum VT4V Evo TG ARGB', 'link_to_equipment': 'https://www.varle.lt/stacionarus-kompiuteriai/stacionarus-kompiuteris-actina-spc-pc-ddr4-sdram-i5-11400f--19050889.html', 'link_to_image': 'https://www.varle.lt/static/uploads/products/235x195/2/act/actina-5901443296188-pc-ddr4-sdram-i5-11400f.jpeg', 'price_equipment': '\\n\\n1326.99\\n\\xa0€\\n'}\n",
      "{'title': 'Mechaninė Žaidimų Klaviatūra Aula Fireshock V5 su riešų atrama, EN/RU/UA išdėstymas', 'link_to_equipment': 'https://www.varle.lt/klaviaturos/mechanine-zaidimu-klaviatura-aula-fireshock-v5-su--16646469.html', 'link_to_image': 'https://www.varle.lt/static/uploads/products/235x195/4/aul/aula-mechanine-klaviatura-fireshock-v5-su.png', 'price_equipment': '\\n\\n33.77\\n\\xa0€\\n'}\n",
      "{'title': 'Žaidimų kėdė DXRacer King K99-N Gaming Chair, Juoda', 'link_to_equipment': 'https://www.varle.lt/zaidimu-gaming-kedes/zaidimu-kede-dxracer-king-k99-n-gaming-chair-juoda--18996201.html', 'link_to_image': 'https://www.varle.lt/static/uploads/products/235x195/814/dxr/dxracer-king-k99-n-juoda-ergonomine-kede.jpg', 'price_equipment': '\\n\\n435.95\\n\\xa0€\\n'}\n",
      "{'title': 'Belaidė Ergonomiška Pelė žaidimams Razer DeathAdder V2 Pro, Juoda', 'link_to_equipment': 'https://www.varle.lt/peles/belaide-ergonomiska-pele-zaidimams-razer-deathadder--14525769.html', 'link_to_image': 'https://www.varle.lt/static/uploads/products/235x195/4/bel/belaide-ergonomiska-zaidimu-pele-razer-deathadder.jpeg', 'price_equipment': '\\n\\n94.28\\n\\xa0€\\n'}\n",
      "{'title': 'Nešiojamo kompiuterio krepšys RIVACASE Tiergarten 17.3\", 8550 (Juodas)', 'link_to_equipment': 'https://www.varle.lt/nesiojamu-kompiuteriu-krepsiai-deklai-kuprines/rivacase-8550-juodas-krepsys-nesiojamam-kompiuteriui--5194619.html', 'link_to_image': 'https://www.varle.lt/static/uploads/products/235x195/403/riv/rivacase-8550-173-maletin-negro-funda.jpg', 'price_equipment': '\\n\\n33.99\\n\\xa0€\\n'}\n",
      "{'title': 'Internetinė kamera Logitech StreamCam FHD 1920 x 1080 pikseliai USB 3.2 Gen 1 (3.1 Gen 1) Juoda', 'link_to_equipment': 'https://www.varle.lt/internetines-kameros/logitech-streamcam-graphite--14185994.html', 'link_to_image': 'https://www.varle.lt/static/uploads/products/235x195/12/str/streamcam-full-hd-960-001281-logitech.Jpeg', 'price_equipment': '\\n\\n98.19\\n\\xa0€\\n'}\n",
      "{'title': 'HyperX FURY S Pro Speed L Pelės kilimėlis žaidimams, 450mm x 400mm', 'link_to_equipment': 'https://www.varle.lt/peliu-kilimeliai/hyperx-fury-s-pro-speed-l-peles-kilimelis-zaidimams--8740875.html', 'link_to_image': 'https://www.varle.lt/static/uploads/products/235x195/886/kil/kilimelis-peles-padas-kingston-king-2709.jpg', 'price_equipment': '\\n\\n13.99\\n\\xa0€\\n'}\n",
      "{'title': \"Rivacase 8930 (PU) juodas krepšys nešiojamam kompiuteriui iki 15,6''\", 'link_to_equipment': 'https://www.varle.lt/nesiojamu-kompiuteriu-krepsiai-deklai-kuprines/rivacase-8930-pu-juodas-krepsys-nesiojamam-kompiuteriui--3328772.html', 'link_to_image': 'https://www.varle.lt/static/uploads/products/235x195/403/riv/rivacase-8930bk-maletin-para-ordenador.jpg', 'price_equipment': '\\n\\n30.99\\n\\xa0€\\n'}\n",
      "{'title': 'Monitorius LENOVO LEGION Y25G-30 24.5FHD/360HZ/400NITS/4X USB 3.2 GEN 1 (3X USB TYPE-A, 1X USB TYPE-C)', 'link_to_equipment': 'https://www.varle.lt/monitoriai/monitorius-lenovo-legion-y25g-30-245fhd360hz400nits4x--17921333.html', 'link_to_image': 'https://www.varle.lt/static/uploads/products/235x195/206/mon/monitorius-lenovo-legion-y25g-30-245fhd-360hz-400nits-4x.jpg', 'price_equipment': '\\n\\n485.34\\n\\xa0€\\n'}\n",
      "{'title': 'Premium Žaidimų kėdė ByteZone Shadow Gaming Chair, Juoda', 'link_to_equipment': 'https://www.varle.lt/zaidimu-gaming-kedes/premium-zaidimu-kede-bytezone-shadow-gaming-chair--17752919.html', 'link_to_image': 'https://www.varle.lt/static/uploads/products/235x195/605/pre/premium-zaidimu-kede-bytezone-shadow-gaming.jpg', 'price_equipment': '\\n\\n159.99\\n\\xa0€\\n'}\n",
      "{'title': 'Žaidimų kėdė Sense7 Vanguard Gaming Chair, Juoda-raudona', 'link_to_equipment': 'https://www.varle.lt/zaidimu-gaming-kedes/zaidimu-kede-sense7-vanguard-gaming-chair-juoda-raudona--18061300.html', 'link_to_image': 'https://www.varle.lt/static/uploads/products/235x195/605/zai/zaidimu-kede-sense7-vanguard-gaming-chair_ROw5N0O.jpg', 'price_equipment': '\\n\\n145.74\\n\\xa0€\\n'}\n",
      "{'title': 'Žaidimų kėdė DXRacer Formula F08-NW Gaming Chair, Balta', 'link_to_equipment': 'https://www.varle.lt/zaidimu-gaming-kedes/zaidimu-kede-dxracer-formula-f08-nw-gaming-chair--7673667.html', 'link_to_image': 'https://www.varle.lt/static/uploads/products/235x195/181/zai/zaidimu-kede-dxracer-formula-f08-nw.jpg', 'price_equipment': '\\n\\n255.99\\n\\xa0€\\n'}\n",
      "{'title': 'Žaidimų Kėdė DXRacer Gladiator Series G001-N Juodas (Juoda)', 'link_to_equipment': 'https://www.varle.lt/zaidimu-gaming-kedes/zaidimu-kede-dxracer-gladiator-series-g001-n-juodas--17116603.html', 'link_to_image': 'https://www.varle.lt/static/uploads/products/235x195/1103/zai/zaidimu-kede-dxracer-gladiator-series-g001-n.jpg', 'price_equipment': '\\n\\n319.99\\n\\xa0€\\n'}\n",
      "{'title': 'Žaidimų kėdė DXRacer Gladiator G001-NR Gaming Chair, Juoda / Raudona', 'link_to_equipment': 'https://www.varle.lt/zaidimu-gaming-kedes/zaidimu-kede-dxracer-gladiator-g001-nw-gaming-chair--17059767.html', 'link_to_image': 'https://www.varle.lt/static/uploads/products/235x195/814/dxr/dxracer-gladiator-series-g001-nr-juodai-raudona.jpg', 'price_equipment': '\\n\\n319.99\\n\\xa0€\\n'}\n",
      "{'title': 'Žaidimų kėdė DXRacer Prince P08-NW Gaming Chair, Juoda-balta', 'link_to_equipment': 'https://www.varle.lt/zaidimu-gaming-kedes/zaidimu-kede-dxracer-prince-p08-nw-gaming-chair-juoda-balta--16616053.html', 'link_to_image': 'https://www.varle.lt/static/uploads/products/235x195/814/dxr/dxracer-prince-series-p08-nw-juodai-balta.jpg', 'price_equipment': '\\n\\n214.99\\n\\xa0€\\n'}\n",
      "{'title': 'DXRACER Craft Series C001-N-R juoda/raudona ergonominė kėdė', 'link_to_equipment': 'https://www.varle.lt/zaidimu-gaming-kedes/dxracer-craft-series-c001-n-r-juodaraudona-ergonomine--20474693.html', 'link_to_image': 'https://www.varle.lt/static/uploads/products/235x195/814/dxr/dxracer-craft-series-c001-n-r-juoda-raudona.jpg', 'price_equipment': '\\n\\n379.99\\n\\xa0€\\n'}\n",
      "{'title': 'Žaidimų kėdė DXRacer CRAFT C001-P-P', 'link_to_equipment': 'https://www.varle.lt/zaidimu-gaming-kedes/dxracer-craft-series-c001-p-p-rozine-ergonomine-kede--20477375.html', 'link_to_image': 'https://www.varle.lt/static/uploads/products/235x195/814/dxr/dxracer-craft-series-c001-p-p-rozine-ergonomine.jpg', 'price_equipment': '\\n\\n369.99\\n\\xa0€\\n'}\n",
      "{'title': 'DXRACER Craft Series C001-N-N juoda ergonominė kėdė', 'link_to_equipment': 'https://www.varle.lt/zaidimu-gaming-kedes/dxracer-craft-series-c001-n-n-juoda-ergonomine-kede--20474687.html', 'link_to_image': 'https://www.varle.lt/static/uploads/products/235x195/814/dxr/dxracer-craft-series-c001-n-n-juoda-ergonomine.jpg', 'price_equipment': '\\n\\n379.99\\n\\xa0€\\n'}\n",
      "{'title': 'DXRACER Craft Series C001-W-N balta ergonominė kėdė', 'link_to_equipment': 'https://www.varle.lt/zaidimu-gaming-kedes/dxracer-craft-series-c001-w-n-balta-ergonomine-kede--20474688.html', 'link_to_image': 'https://www.varle.lt/static/uploads/products/235x195/814/dxr/dxracer-craft-series-c001-w-n-balta-ergonomine.jpg', 'price_equipment': '\\n\\n379.99\\n\\xa0€\\n'}\n",
      "{'title': 'Žaidimų kėdė DXRacer Air R1S-GPG Gaming Chair, Pilka-rožinė', 'link_to_equipment': 'https://www.varle.lt/zaidimu-gaming-kedes/zaidimu-kede-dxracer-air-r1s-gpg-gaming-chair-pilka-rozine--20474690.html', 'link_to_image': 'https://www.varle.lt/static/uploads/products/235x195/814/dxr/dxracer-air-series-r1s-gpg-pilkai-rozine.jpg', 'price_equipment': '\\n\\n339.99\\n\\xa0€\\n'}\n",
      "{'title': 'Bevielė pelė Logitech M185 Raudona', 'link_to_equipment': 'https://www.varle.lt/peles/beviele-pele-logitech-m185-raudona--7590518.html', 'link_to_image': 'https://www.varle.lt/static/uploads/products/235x195/29/bev/beviele-pele-logitech-m185-raudona-910-002237.jpg', 'price_equipment': '\\n\\n12.59\\n\\xa0€\\n'}\n",
      "{'title': 'Pelės kilimėlis Žaidimams su pašvietimu Media-Tech RGB GAMING MAT MT262', 'link_to_equipment': 'https://www.varle.lt/peliu-kilimeliai/peles-kilimelis-zaidimams-su-pasvietimu-media-tech--16648426.html', 'link_to_image': 'https://www.varle.lt/static/uploads/products/235x195/753/kil/kilimelis-media-tech-rgb-gaming-mat-big.jpg', 'price_equipment': '\\n\\n12.30\\n\\xa0€\\n'}\n",
      "{'title': 'Pelės kilimėlis žaidimams Media-Tech COBRA PRO MOUSEPAD MT260, 35x25x0,4cm', 'link_to_equipment': 'https://www.varle.lt/peliu-kilimeliai/peles-kilimelis-zaidimams-media-tech-cobra-pro-mousepad--3453425.html', 'link_to_image': 'https://www.varle.lt/static/uploads/products/235x195/134/pel/peles-kilimelis-zaidimams-media-tech-cobra.jpg', 'price_equipment': '\\n\\n5.26\\n\\xa0€\\n'}\n",
      "{'title': 'Kiti LIPDUKAS KLAVIATURAI BALTOMIS RAIDEMIS', 'link_to_equipment': 'https://www.varle.lt/klaviaturos/lipdukas-klaviaturai-baltomis-raidemis--8227883.html', 'link_to_image': 'https://www.varle.lt/static/uploads/products/235x195/134/lip/lipdukas-klaviaturai-baltomis-raidemis.JPG', 'price_equipment': '\\n\\n3.99\\n\\xa0€\\n'}\n",
      "{'title': 'Pelė žaidimams Razer DeathAdder V2 Mini, Chroma RGB, 62g, Juoda + Dovana pelės kilimėlis Natec UGO', 'link_to_equipment': 'https://www.varle.lt/peles/pele-zaidimams-razer-deathadder-v2-mini-chroma-rgb--14353634.html', 'link_to_image': 'https://www.varle.lt/static/uploads/products/235x195/622/pel/pele-razer-deathadder-v2-mini-pele-grip.jpg', 'price_equipment': '\\n\\n27.90\\n\\xa0€\\n'}\n",
      "{'title': 'Kietasis vidinis diskas SSD SAMSUNG 970 Evo Plus 1TB/MZ-V7S1T0BW', 'link_to_equipment': 'https://www.varle.lt/kietieji-diskai/ssd-1tb-samsung-m2-pci-e-nvme-970-evo-plus-retail--10092692.html', 'link_to_image': 'https://www.varle.lt/static/uploads/products/235x195/12/ssd/ssd-m2-2280-1tb-970-evo-plus-mz-v7s1t0bw.Jpeg', 'price_equipment': '\\n\\n132.34\\n\\xa0€\\n'}\n",
      "{'title': 'Apple AirPods (3-ios kartos)', 'link_to_equipment': 'https://www.varle.lt/ausines/ausines-apple-airpods-3rd-generation--16892948.html', 'link_to_image': 'https://www.varle.lt/static/uploads/products/235x195/28/app/apple-airpods-3rd-generation.png', 'price_equipment': '\\n\\n198\\xa0€\\n'}\n",
      "{'title': 'Kietasis vidinis diskas SSD SAMSUNG 870 EVO 500GB/SATA 3.0/MLC/MZ-77E500B/EU', 'link_to_equipment': 'https://www.varle.lt/kietieji-diskai/samsung-870-evo-500gb-sata-iii-25-ssd-560mbs-read--15110163.html', 'link_to_image': 'https://www.varle.lt/static/uploads/products/235x195/4/sam/samsung-ssd-870-evo-500-gb-ssd-form-factor.png', 'price_equipment': '\\n\\n65.89\\n\\xa0€\\n'}\n",
      "{'title': 'Aušinimo stovas nešiojamam kompiuteriui Media-Tech HEAT BUSTER 4 MT2658, iki 15,6\", tylus 16cm ventiliatorius, USB', 'link_to_equipment': 'https://www.varle.lt/nesiojami-ausintuvai-laikikliai/ausinimo-stovas-nesiojamam-kompiuteriui-media-tech--13798138.html', 'link_to_image': 'https://www.varle.lt/static/uploads/products/235x195/292/med/media-tech-mediatech-heat-buster-4.jpeg', 'price_equipment': '\\n\\n12.38\\n\\xa0€\\n'}\n",
      "{'title': 'Kingston DataTraveler Exodia DTX/128GB USB atmintinė 3.2 Gen 1 su apsauginiu dangteliu ir raktų žiedu', 'link_to_equipment': 'https://www.varle.lt/usb-laikmenos/kingston-datatraveler-exodia-128gb-usb-stick-typ-a--14511139.html', 'link_to_image': 'https://www.varle.lt/static/uploads/products/235x195/2/kin/kingston-technology-datatraveler-exodia_FWq42Bn.jpeg', 'price_equipment': '\\n\\n11.39\\n\\xa0€\\n'}\n",
      "{'title': 'Žaidimų pelė Razer Viper Mini, Chroma RGB, 61g, Juoda', 'link_to_equipment': 'https://www.varle.lt/peles/zaidimu-pele-razer-viper-mini-chroma-rgb-61g-juoda--13764748.html', 'link_to_image': 'https://www.varle.lt/static/uploads/products/235x195/292/raz/razer-viper-mini-zaidimu-pele-mouse-.jpeg', 'price_equipment': '\\n\\n32.25\\n\\xa0€\\n'}\n",
      "{'title': 'Kietasis diskas  SSD SAMSUNG 870 QVO/1TB/Rašymo greitis 530 MBytes/sec/Skaitymo greitis 560 MBytes/sec/2,5\"/TBW 360 TB/MTBF 1500000 hours/MZ-77Q1T0BW', 'link_to_equipment': 'https://www.varle.lt/kietieji-diskai/ssd-sata25-1tb-6gbs870-qvo-mz-77q1t0bw-samsung--14189839.html', 'link_to_image': 'https://www.varle.lt/static/uploads/products/235x195/496/sam/samsung-mz-77q1t0-25-1000-gb-serial-ata_lUGpd5f.jpg', 'price_equipment': '\\n\\n91.46\\n\\xa0€\\n'}\n",
      "{'title': 'Xiaomi Redmi Buds 3 Pro, TWS Ausinės, Garsas kurio nori, su adaptyviu triukšmo slopinimu, Grafito juodos', 'link_to_equipment': 'https://www.varle.lt/ausines/xiaomi-redmi-buds-3-pro-tws-ausines-garsas-kurio--16503952.html', 'link_to_image': 'https://www.varle.lt/static/uploads/products/235x195/4/xia/xiaomi-redmi-buds-3-pro-tws-ausines-garsas_EmvGS3E.jpg', 'price_equipment': '\\n\\n56.48\\n\\xa0€\\n'}\n",
      "{'title': 'Lengvos ir patogios belaidės Ausinės JBL Tune 510BT Pure Bass sound su mikrofonu juodos', 'link_to_equipment': 'https://www.varle.lt/ausines/lengvos-ir-patogios-belaides-ausines-jbl-tune-510bt--16110101.html', 'link_to_image': 'https://www.varle.lt/static/uploads/products/235x195/622/aus/ausines-jbl-tune-510bt_kZ0SbUc.jpg', 'price_equipment': '\\n\\n34.49\\n\\xa0€\\n'}\n",
      "{'title': 'Lengvos Xiaomi TWS ausinės Redmi Buds 3, Pasinerk į ritmą', 'link_to_equipment': 'https://www.varle.lt/ausines/lengvos-xiaomi-tws-ausines-redmi-buds-3-pasinerk--17033598.html', 'link_to_image': 'https://www.varle.lt/static/uploads/products/235x195/542/xia/xiaomi-redmi-buds-3-baltas.jpg', 'price_equipment': '\\n\\n33.48\\n\\xa0€\\n'}\n",
      "{'title': 'Kietasis diskas Samsung V-NAND SSD 980/500 GB/SSD form factor M.2 2280/MZ-V8V500BW', 'link_to_equipment': 'https://www.varle.lt/kietieji-diskai/samsung-980-ssd-500gb-m2-2280-pcie-30-x4-internes--15468437.html', 'link_to_image': 'https://www.varle.lt/static/uploads/products/235x195/962/ssd/ssd-m2-500gb-samsung-980-nvme-pcie-30.jpg', 'price_equipment': '\\n\\n57.41\\n\\xa0€\\n'}\n",
      "{'title': 'Mechaninė TKL Žaidimų Klaviatūra Aula Aegis, Red Switch, su pašvietimu, EN išdėstymas', 'link_to_equipment': 'https://www.varle.lt/klaviaturos/mechanine-tkl-zaidimu-klaviatura-aula-aegis-red-switch--15733813.html', 'link_to_image': 'https://www.varle.lt/static/uploads/products/235x195/4/aul/aula-aegis-mechanine-klaviatura-su-laidu_GFjbfAh.png', 'price_equipment': '\\n\\n19.99\\n\\xa0€\\n'}\n",
      "{'title': 'Žaidimų kėdė Sense7 Prism Gaming Chair, Juoda', 'link_to_equipment': 'https://www.varle.lt/zaidimu-gaming-kedes/zaidimu-kede-sense7-prism-gaming-chair-juoda--16451446.html', 'link_to_image': 'https://www.varle.lt/static/uploads/products/235x195/605/zai/zaidimu-kede-sense7-prism-gaming-chair.jpg', 'price_equipment': '\\n\\n89.99\\n\\xa0€\\n'}\n",
      "{'title': 'Žaidimų stalas Ultradesk Momentum Gaming Desk, Juodas', 'link_to_equipment': 'https://www.varle.lt/kompiuteriniu-zaidimu-stalai/zaidimu-stalas-ultradesk-momentum-gaming-desk-juodas--16333947.html', 'link_to_image': 'https://www.varle.lt/static/uploads/products/235x195/622/biu/biurko-ultradesk-momentum-juoda-udesk-mm-bk.jpg', 'price_equipment': '\\n\\n189\\xa0€\\n'}\n",
      "{'title': 'Žaidimų stalas Ultradesk Action V2 Gaming Desk', 'link_to_equipment': 'https://www.varle.lt/zaidimu-stalai/zaidimu-stalas-ultradesk-action-v2-gaming-desk--10423633.html', 'link_to_image': 'https://www.varle.lt/static/uploads/products/235x195/605/zai/zaidimu-stalas-ultradesk-action-v2-gaming.png', 'price_equipment': '\\n\\n129\\xa0€\\n'}\n",
      "{'title': 'SSD SAMSUNG 870 QVO 2TB/SATA 3.0/Rašymo greitis 530 MBytes/sec/Skaitymo greitis 560 MBytes/sec/TBW 720 TB/MTBF 1500000 hours/MZ-77Q2T0BW', 'link_to_equipment': 'https://www.varle.lt/kietieji-diskai/samsung-870-qvo-interne-sata-ssd-2-tb-25zoll-qlc--14187408.html', 'link_to_image': 'https://www.varle.lt/static/uploads/products/235x195/143/sam/samsung-dysk-ssd-870qvo-mz-77q2t0bw-2tb.jpeg', 'price_equipment': '\\n\\n180\\xa0€\\n'}\n",
      "{'title': 'Stacionarus kompiuteris Actina /ASUS PRIME B660M-A D4 / NVIDIA GeForce RTX 3060 Ti / PATRIOT VIPER 4 BLACKOUT / WD Blue WDS100T2B0C / SilentiumPC Fortis 5 / CHIEFTEC GPS-600A8 / ASUS TUF GAMING GT301', 'link_to_equipment': 'https://www.varle.lt/stacionarus-kompiuteriai/stacionarus-kompiuteris-actina-5901443302841-pc-ddr4-sdram--19041793.html', 'link_to_image': 'https://www.varle.lt/static/uploads/products/235x195/2/act/actina-5901443302841-pc-ddr4-sdram-i5-12400f.jpg', 'price_equipment': '\\n\\n1750.89\\n\\xa0€\\n'}\n",
      "{'title': 'Gosund Nitebird RGB LED WiFi juosta Gosund SL3 10m 12V', 'link_to_equipment': 'https://www.varle.lt/ismaniu-irenginiu-valdikliai/gosund-nitebird-rgb-led-wifi-juosta-gosund-sl3-10m--15782371.html', 'link_to_image': 'https://www.varle.lt/static/uploads/products/235x195/605/gos/gosund-nitebird-rgb-led-wifi-juosta-gosund.jpg', 'price_equipment': '\\n\\n30.32\\n\\xa0€\\n'}\n",
      "{'title': 'Kietasis diskas ADATA Ultimate SU650 480GB', 'link_to_equipment': 'https://www.varle.lt/kietieji-diskai/a-data-adata-su650-480gb-25inch-sata3-520450mbs--9468200.html', 'link_to_image': 'https://www.varle.lt/static/uploads/products/235x195/4/a-d/a-data-adata-ultimate-su650-3d-nand-ssd_jXWfFKy.png', 'price_equipment': '\\n\\n38.48\\n\\xa0€\\n'}\n",
      "{'title': 'Nešiojamas kompiuteris Žaidimų kompiuteris Lenovo Legion 5 15.6\" FullHD IPS 120Hz / AMD Ryzen 5 5600H iki 4.2Ghz / 512Gb SSD PCIe / 8Gb RAM DDR4 / GeForce RTX3060 6Gb / WiFi AX / USB C / šviečianti klaviatūra', 'link_to_equipment': 'https://www.varle.lt/nesiojami-kompiuteriai/nesiojami-kompiuteriai/nesiojamas-kompiuteris-zaidimu-kompiuteris-lenovo--20653510.html', 'link_to_image': 'https://www.varle.lt/static/uploads/products/235x195/605/zai/zaidimu-kompiuteris-lenovo-legion-5-156_Qz728OJ.png', 'price_equipment': '\\n\\n1049\\xa0€\\n'}\n",
      "{'title': 'Žaidimų stalas Ultradesk Frag Gaming Desk, Juodas su raudonu kilimėliu', 'link_to_equipment': 'https://www.varle.lt/zaidimu-stalai/zaidimu-stalas-ultradesk-frag-gaming-desk-raudonas--15560040.html', 'link_to_image': 'https://www.varle.lt/static/uploads/products/235x195/622/sta/stalas-ultradesk-frag-red.png', 'price_equipment': '\\n\\n159\\xa0€\\n'}\n",
      "{'title': 'Samsung Planšetė X200N Galaxy Tab A8 10.5 WiFi 64GB Rožinė Gold', 'link_to_equipment': 'https://www.varle.lt/plansetiniai-kompiuteriai/samsung-plansete-x200n-galaxy-tab-a8-105-wifi-64gb--17825121.html', 'link_to_image': 'https://www.varle.lt/static/uploads/products/235x195/572/pla/plansete-samsung-galaxy-tab-a8-2022-wifi_YTQxyFt.png', 'price_equipment': '\\n\\n199\\xa0€\\n'}\n",
      "{'title': 'Lengvos ir patogios belaidės Ausinės JBL Tune 510BT Pure Bass sound su mikrofonu rožinės', 'link_to_equipment': 'https://www.varle.lt/ausines/lengvos-ir-patogios-belaides-ausines-jbl-tune-510bt--16581266.html', 'link_to_image': 'https://www.varle.lt/static/uploads/products/235x195/572/bel/belaides-ausines-jbl-t510-on-ear-rozine.png', 'price_equipment': '\\n\\n34.59\\n\\xa0€\\n'}\n",
      "{'title': 'Studijinis ir Transliavimo kondensatorinis mikrofonas Media-Tech STUDIO AND STREAMING MICROPHONE MT396 su laikikliu', 'link_to_equipment': 'https://www.varle.lt/mikrofonai/studijinis-ir-transliavimo-kondensatorinis-mikrofonas--14960756.html', 'link_to_image': 'https://www.varle.lt/static/uploads/products/235x195/753/stu/studijinis-ir-transliavimo-kondensatorinis.jpg', 'price_equipment': '\\n\\n26.60\\n\\xa0€\\n'}\n",
      "{'title': 'Kietasis vidinis diskas SSD SAMSUNG 870 EVO 2TB/SATA 3.0|MLC/MZ-77E2T0B/EU', 'link_to_equipment': 'https://www.varle.lt/kietieji-diskai/kietasis-vidinis-diskas-ssd-samsung-870-evo-2tbsata--15150407.html', 'link_to_image': 'https://www.varle.lt/static/uploads/products/235x195/846/sam/samsung-870-evo-25-col-ssd-sata-6g-_YA9395H.jpg', 'price_equipment': '\\n\\n219.97\\n\\xa0€\\n'}\n",
      "{'title': 'Ausinės Apple AirPods Pro (2021)', 'link_to_equipment': 'https://www.varle.lt/ausines/ausines-apple-airpods-pro-2021--16922375.html', 'link_to_image': 'https://www.varle.lt/static/uploads/products/235x195/28/app/apple-airpods-pro.png', 'price_equipment': '\\n\\n236.34\\n\\xa0€\\n'}\n",
      "{'title': 'Nešiojamas kompiuteris MacBook Air 13” Apple M1 8C CPU, 7C GPU/8GB/256GB SSD/Gold/INT (2020 m.)', 'link_to_equipment': 'https://www.varle.lt/nesiojami-kompiuteriai/nesiojami-kompiuteriai/nesiojamas-kompiuteris-macbook-air-13-apple-m1-8c--18727916.html', 'link_to_image': 'https://www.varle.lt/static/uploads/products/235x195/28/nes/nesiojamas-kompiuteris-macbook-air-13-apple_e95fx7B.png', 'price_equipment': '\\n\\n1129\\xa0€\\n'}\n"
     ]
    }
   ],
   "source": [
    "full_equipments: List[Dict] = []\n",
    "\n",
    "for equipment_link in equipments_links:\n",
    "    try:\n",
    "        full_equipments.append(get_equipment_info(equipment_link[\"link_to_recipe\"]))\n",
    "    except:\n",
    "        print(equipment_link)"
   ]
  },
  {
   "cell_type": "code",
   "execution_count": 98,
   "metadata": {},
   "outputs": [
    {
     "data": {
      "text/plain": [
       "107"
      ]
     },
     "execution_count": 98,
     "metadata": {},
     "output_type": "execute_result"
    }
   ],
   "source": [
    "len(full_recipes)"
   ]
  }
 ],
 "metadata": {
  "kernelspec": {
   "display_name": "Python 3.9.13 ('.venv': poetry)",
   "language": "python",
   "name": "python3"
  },
  "language_info": {
   "codemirror_mode": {
    "name": "ipython",
    "version": 3
   },
   "file_extension": ".py",
   "mimetype": "text/x-python",
   "name": "python",
   "nbconvert_exporter": "python",
   "pygments_lexer": "ipython3",
   "version": "3.9.13"
  },
  "orig_nbformat": 4,
  "vscode": {
   "interpreter": {
    "hash": "e29f4d8c4d9b93aa8b8ae860e6f45f0bab225d8e4b79fc471e4e658c143039bc"
   }
  }
 },
 "nbformat": 4,
 "nbformat_minor": 2
}
