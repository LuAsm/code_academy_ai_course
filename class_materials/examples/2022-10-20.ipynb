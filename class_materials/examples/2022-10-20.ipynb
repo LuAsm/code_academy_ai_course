{
 "cells": [
  {
   "cell_type": "markdown",
   "metadata": {},
   "source": [
    "# 2022-10-20"
   ]
  },
  {
   "cell_type": "code",
   "execution_count": 3,
   "metadata": {},
   "outputs": [
    {
     "name": "stdout",
     "output_type": "stream",
     "text": [
      "100\n",
      "model3\n"
     ]
    },
    {
     "ename": "KeyError",
     "evalue": "'citroen'",
     "output_type": "error",
     "traceback": [
      "\u001b[0;31m---------------------------------------------------------------------------\u001b[0m",
      "\u001b[0;31mKeyError\u001b[0m                                  Traceback (most recent call last)",
      "Cell \u001b[0;32mIn [3], line 4\u001b[0m\n\u001b[1;32m      2\u001b[0m \u001b[39mprint\u001b[39m(car_models[\u001b[39m\"\u001b[39m\u001b[39maudi\u001b[39m\u001b[39m\"\u001b[39m])\n\u001b[1;32m      3\u001b[0m \u001b[39mprint\u001b[39m(car_models[\u001b[39m\"\u001b[39m\u001b[39mtesla\u001b[39m\u001b[39m\"\u001b[39m])\n\u001b[0;32m----> 4\u001b[0m \u001b[39mprint\u001b[39m(car_models[\u001b[39m\"\u001b[39m\u001b[39mcitroen\u001b[39m\u001b[39m\"\u001b[39m])\n",
      "\u001b[0;31mKeyError\u001b[0m: 'citroen'"
     ]
    }
   ],
   "source": [
    "car_models = {\"audi\": \"100\", \"bwm\": \"e63\", \"tesla\": \"model3\"}\n",
    "print(car_models[\"audi\"])\n",
    "print(car_models[\"tesla\"])\n",
    "print(car_models[\"citroen\"])"
   ]
  },
  {
   "cell_type": "code",
   "execution_count": 6,
   "metadata": {},
   "outputs": [
    {
     "name": "stdout",
     "output_type": "stream",
     "text": [
      "4\n",
      "4\n"
     ]
    },
    {
     "ename": "ZeroDivisionError",
     "evalue": "division by zero",
     "output_type": "error",
     "traceback": [
      "\u001b[0;31m---------------------------------------------------------------------------\u001b[0m",
      "\u001b[0;31mZeroDivisionError\u001b[0m                         Traceback (most recent call last)",
      "Cell \u001b[0;32mIn [6], line 3\u001b[0m\n\u001b[1;32m      1\u001b[0m \u001b[39mprint\u001b[39m(\u001b[39m2\u001b[39m \u001b[39m+\u001b[39m \u001b[39m2\u001b[39m)\n\u001b[1;32m      2\u001b[0m \u001b[39mprint\u001b[39m(\u001b[39m2\u001b[39m \u001b[39m*\u001b[39m \u001b[39m2\u001b[39m)\n\u001b[0;32m----> 3\u001b[0m \u001b[39mprint\u001b[39m(\u001b[39m2\u001b[39m \u001b[39m/\u001b[39m \u001b[39m0\u001b[39m)\n",
      "\u001b[0;31mZeroDivisionError\u001b[0m: division by zero"
     ]
    }
   ],
   "source": [
    "print(2 + 2)\n",
    "print(2 * 2)\n",
    "print(2 / 0)"
   ]
  },
  {
   "cell_type": "code",
   "execution_count": 9,
   "metadata": {},
   "outputs": [
    {
     "name": "stdout",
     "output_type": "stream",
     "text": [
      "Hello, I am speaking!\n"
     ]
    },
    {
     "ename": "AttributeError",
     "evalue": "'Student' object has no attribute 'sit'",
     "output_type": "error",
     "traceback": [
      "\u001b[0;31m---------------------------------------------------------------------------\u001b[0m",
      "\u001b[0;31mAttributeError\u001b[0m                            Traceback (most recent call last)",
      "Cell \u001b[0;32mIn [9], line 10\u001b[0m\n\u001b[1;32m      8\u001b[0m student \u001b[39m=\u001b[39m Student()\n\u001b[1;32m      9\u001b[0m student\u001b[39m.\u001b[39mspeak()\n\u001b[0;32m---> 10\u001b[0m student\u001b[39m.\u001b[39msit()\n",
      "\u001b[0;31mAttributeError\u001b[0m: 'Student' object has no attribute 'sit'"
     ]
    }
   ],
   "source": [
    "class Student:\n",
    "    def __init__(self):\n",
    "        self._name = \"Dominykas\"\n",
    "    \n",
    "    def speak(self):\n",
    "        print(\"Hello, I am speaking!\")\n",
    "\n",
    "student = Student()\n",
    "student.speak()\n",
    "student.sit()"
   ]
  },
  {
   "cell_type": "code",
   "execution_count": 11,
   "metadata": {},
   "outputs": [
    {
     "name": "stdout",
     "output_type": "stream",
     "text": [
      "100\n",
      "The key does not exist!\n"
     ]
    }
   ],
   "source": [
    "car_models = {\"audi\": \"100\", \"bwm\": \"e63\", \"tesla\": \"model3\"}\n",
    "\n",
    "try:\n",
    "    print(car_models[\"audi\"])\n",
    "    print(car_models[\"citroen\"])\n",
    "    print(car_models[\"tesla\"])\n",
    "except:\n",
    "    print(\"The key does not exist!\")"
   ]
  },
  {
   "cell_type": "code",
   "execution_count": null,
   "metadata": {},
   "outputs": [],
   "source": [
    "car_models = {\"audi\": \"100\", \"bwm\": \"e63\", \"tesla\": \"model3\"}\n",
    "\n",
    "for brand in [\"audi\", \"citroen\", \"tesla\"]:\n",
    "    print(car_models[brand])"
   ]
  },
  {
   "cell_type": "code",
   "execution_count": 14,
   "metadata": {},
   "outputs": [
    {
     "name": "stdout",
     "output_type": "stream",
     "text": [
      "100\n",
      "The audi goes brr!\n",
      "The key does not exist!\n",
      "model3\n",
      "The tesla goes brr!\n"
     ]
    }
   ],
   "source": [
    "car_models = {\"audi\": \"100\", \"bwm\": \"e63\", \"tesla\": \"model3\"}\n",
    "\n",
    "for brand in [\"audi\", \"citroen\", \"tesla\"]:\n",
    "    try:\n",
    "        print(car_models[brand])\n",
    "        print(f\"The {brand} goes brr!\")\n",
    "    except:\n",
    "        print(\"The key does not exist!\")"
   ]
  },
  {
   "cell_type": "code",
   "execution_count": 16,
   "metadata": {},
   "outputs": [
    {
     "name": "stdout",
     "output_type": "stream",
     "text": [
      "100\n",
      "The audi goes brr!\n",
      "The audi goes brr!\n",
      "Current brand is audi\n",
      "The key does not exist!\n",
      "The citroen goes brr!\n",
      "Current brand is citroen\n",
      "model3\n",
      "The tesla goes brr!\n",
      "The tesla goes brr!\n",
      "Current brand is tesla\n"
     ]
    }
   ],
   "source": [
    "car_models = {\"audi\": \"100\", \"bwm\": \"e63\", \"tesla\": \"model3\"}\n",
    "\n",
    "for brand in [\"audi\", \"citroen\", \"tesla\"]:\n",
    "    try:\n",
    "        print(car_models[brand])\n",
    "        print(f\"The {brand} goes brr!\")\n",
    "    except:\n",
    "        print(\"The key does not exist!\")\n",
    "    print(f\"Current brand is {brand}\")"
   ]
  },
  {
   "cell_type": "code",
   "execution_count": 17,
   "metadata": {},
   "outputs": [
    {
     "name": "stdout",
     "output_type": "stream",
     "text": [
      "100\n",
      "The audi goes brr!\n",
      "Current brand is audi\n",
      "The key does not exist! 'citroen'\n",
      "Current brand is citroen\n",
      "model3\n",
      "The tesla goes brr!\n",
      "Current brand is tesla\n"
     ]
    }
   ],
   "source": [
    "car_models = {\"audi\": \"100\", \"bwm\": \"e63\", \"tesla\": \"model3\"}\n",
    "\n",
    "for brand in [\"audi\", \"citroen\", \"tesla\"]:\n",
    "    try:\n",
    "        print(car_models[brand])\n",
    "        print(f\"The {brand} goes brr!\")\n",
    "    except Exception as e:\n",
    "        print(\"The key does not exist!\", e)\n",
    "    print(f\"Current brand is {brand}\")"
   ]
  },
  {
   "cell_type": "code",
   "execution_count": 18,
   "metadata": {},
   "outputs": [
    {
     "name": "stdout",
     "output_type": "stream",
     "text": [
      "4\n",
      "4\n",
      "division by zero\n"
     ]
    }
   ],
   "source": [
    "try:\n",
    "    print(2 + 2)\n",
    "    print(2 * 2)\n",
    "    print(2 / 0)\n",
    "except Exception as e:\n",
    "    print(e)"
   ]
  },
  {
   "cell_type": "code",
   "execution_count": 35,
   "metadata": {},
   "outputs": [
    {
     "name": "stdout",
     "output_type": "stream",
     "text": [
      "0.5581395348837209\n",
      "Sorry we tried to divide your age by someone who is still a newborn :(\n",
      "inf\n",
      "The provided name Antanu does not exist in the family tree. dict_keys(['Dominykas', 'Lukas', 'Povilas', 'Justina', 'Juste'])\n",
      "None\n",
      "The provided name <__main__.Student object at 0x1089f4fa0> does not exist in the family tree. dict_keys(['Dominykas', 'Lukas', 'Povilas', 'Justina', 'Juste'])\n",
      "None\n"
     ]
    }
   ],
   "source": [
    "from typing import Optional\n",
    "import numpy as np\n",
    "\n",
    "def check_how_much_younger_you_are(age: int, name: str) -> Optional[float]:\n",
    "    family = {\n",
    "        \"Dominykas\": 43,\n",
    "        \"Lukas\": 20,\n",
    "        \"Povilas\": 13,\n",
    "        \"Justina\": 34,\n",
    "        \"Juste\": 0\n",
    "    }\n",
    "    try:\n",
    "        return age / family[name]\n",
    "    except ZeroDivisionError as e:\n",
    "        print(\"Sorry we tried to divide your age by someone who is still a newborn :(\")\n",
    "        return np.Inf\n",
    "    except KeyError as e:\n",
    "        print(f\"The provided name {name} does not exist in the family tree. {family.keys()}\")\n",
    "        return None\n",
    "\n",
    "for name in [\"Dominykas\", \"Juste\", \"Antanu\"]:\n",
    "    print(check_how_much_younger_you_are(24, name))"
   ]
  },
  {
   "cell_type": "code",
   "execution_count": 36,
   "metadata": {},
   "outputs": [
    {
     "name": "stdout",
     "output_type": "stream",
     "text": [
      "0.5581395348837209\n",
      "Sorry we tried to divide your age by someone who is still a newborn :(\n",
      "inf\n",
      "The provided name Antanu does not exist in the family tree. dict_keys(['Dominykas', 'Lukas', 'Povilas', 'Justina', 'Juste'])\n",
      "None\n"
     ]
    }
   ],
   "source": [
    "from typing import Optional\n",
    "import numpy as np\n",
    "\n",
    "def check_how_much_younger_you_are(age: int, name: str) -> Optional[float]:\n",
    "    family = {\n",
    "        \"Dominykas\": 43,\n",
    "        \"Lukas\": 20,\n",
    "        \"Povilas\": 13,\n",
    "        \"Justina\": 34,\n",
    "        \"Juste\": 0\n",
    "    }\n",
    "    try:\n",
    "        family_person_age = family[name]\n",
    "    except KeyError as e:\n",
    "        print(f\"The provided name {name} does not exist in the family tree. {family.keys()}\")\n",
    "        return None\n",
    "    try:\n",
    "        return age / family_person_age\n",
    "    except ZeroDivisionError as e:\n",
    "        print(\"Sorry we tried to divide your age by someone who is still a newborn :(\")\n",
    "        return np.Inf\n",
    "\n",
    "for name in [\"Dominykas\", \"Juste\", \"Antanu\"]:\n",
    "    print(check_how_much_younger_you_are(24, name))"
   ]
  },
  {
   "cell_type": "code",
   "execution_count": 37,
   "metadata": {},
   "outputs": [],
   "source": [
    "try:\n",
    "    import tensorflow as pkg\n",
    "except ImportError:\n",
    "    import numpy as pkg"
   ]
  }
 ],
 "metadata": {
  "kernelspec": {
   "display_name": "Python 3.9.13 ('.venv': poetry)",
   "language": "python",
   "name": "python3"
  },
  "language_info": {
   "codemirror_mode": {
    "name": "ipython",
    "version": 3
   },
   "file_extension": ".py",
   "mimetype": "text/x-python",
   "name": "python",
   "nbconvert_exporter": "python",
   "pygments_lexer": "ipython3",
   "version": "3.9.13"
  },
  "orig_nbformat": 4,
  "vscode": {
   "interpreter": {
    "hash": "de17c4b867480f2f8bc5d2be08a00cb2e02a1ee18bda207b764c3905e0b438fb"
   }
  }
 },
 "nbformat": 4,
 "nbformat_minor": 2
}
