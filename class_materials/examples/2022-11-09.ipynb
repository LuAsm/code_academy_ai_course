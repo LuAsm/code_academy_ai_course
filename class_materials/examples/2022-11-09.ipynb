{
 "cells": [
  {
   "cell_type": "markdown",
   "metadata": {},
   "source": [
    "# 2022-11-09"
   ]
  },
  {
   "cell_type": "code",
   "execution_count": 1,
   "metadata": {},
   "outputs": [],
   "source": [
    "import numpy as np"
   ]
  },
  {
   "cell_type": "code",
   "execution_count": 3,
   "metadata": {},
   "outputs": [
    {
     "name": "stdout",
     "output_type": "stream",
     "text": [
      "[1, 2, 3, 4]\n",
      "[1 2 3 4]\n"
     ]
    }
   ],
   "source": [
    "py_list = [1, 2, 3, 4]\n",
    "np_array = np.array([1, 2, 3, 4])\n",
    "\n",
    "print(py_list)\n",
    "print(np_array)"
   ]
  },
  {
   "cell_type": "code",
   "execution_count": 5,
   "metadata": {},
   "outputs": [
    {
     "data": {
      "text/plain": [
       "array([1., 2., 3., 4.])"
      ]
     },
     "execution_count": 5,
     "metadata": {},
     "output_type": "execute_result"
    }
   ],
   "source": [
    "# Np array with different types\n",
    "\n",
    "a = np.array([1, 2, 3, 4], dtype=np.float64)\n",
    "a"
   ]
  },
  {
   "cell_type": "code",
   "execution_count": 10,
   "metadata": {},
   "outputs": [
    {
     "name": "stdout",
     "output_type": "stream",
     "text": [
      "[[1 2 3]\n",
      " [3 4 5]] 2 (2, 3)\n"
     ]
    }
   ],
   "source": [
    "# 2d array\n",
    "\n",
    "a = np.array([[1, 2, 3], [3, 4, 5]])\n",
    "print(a, a.ndim, a.shape)"
   ]
  },
  {
   "cell_type": "code",
   "execution_count": 11,
   "metadata": {},
   "outputs": [
    {
     "name": "stdout",
     "output_type": "stream",
     "text": [
      "[[[1 2 3]\n",
      "  [3 4 5]]] 3 (1, 2, 3)\n"
     ]
    }
   ],
   "source": [
    "# 3d array\n",
    "\n",
    "a = np.array([[[1, 2, 3], [3, 4, 5]]])\n",
    "print(a, a.ndim, a.shape)"
   ]
  },
  {
   "cell_type": "code",
   "execution_count": 12,
   "metadata": {},
   "outputs": [
    {
     "name": "stdout",
     "output_type": "stream",
     "text": [
      "float32\n",
      "int32\n"
     ]
    }
   ],
   "source": [
    "# Check array type\n",
    "\n",
    "print(np.array([1, 2, 3], dtype=np.float32).dtype)\n",
    "print(np.array([1, 2, 3], dtype=np.int32).dtype)"
   ]
  },
  {
   "cell_type": "code",
   "execution_count": 15,
   "metadata": {},
   "outputs": [
    {
     "name": "stdout",
     "output_type": "stream",
     "text": [
      "4\n",
      "4\n",
      "4\n"
     ]
    }
   ],
   "source": [
    "# Check array size\n",
    "\n",
    "print(np.array([1, 2, 3], dtype=np.float32).itemsize)\n",
    "print(np.array([[1, 2, 3], [1, 2, 3]], dtype=np.float32).itemsize)\n",
    "print(np.array([[[1, 2, 3], [1, 2, 3]], [[1, 2, 3], [1, 2, 3]]], dtype=np.float32).itemsize)"
   ]
  },
  {
   "cell_type": "code",
   "execution_count": 17,
   "metadata": {},
   "outputs": [
    {
     "name": "stdout",
     "output_type": "stream",
     "text": [
      "3\n",
      "24\n"
     ]
    }
   ],
   "source": [
    "# Check size in memory\n",
    "\n",
    "print(np.array([1, 2, 3], dtype=np.int8).nbytes)\n",
    "print(np.array([1, 2, 3], dtype=np.int64).nbytes)"
   ]
  },
  {
   "cell_type": "code",
   "execution_count": 18,
   "metadata": {},
   "outputs": [
    {
     "name": "stdout",
     "output_type": "stream",
     "text": [
      "1000000\n",
      "8000000\n"
     ]
    }
   ],
   "source": [
    "# Check size in memory\n",
    "\n",
    "print(np.ones((1000, 1000), dtype=np.int8).nbytes)\n",
    "print(np.ones((1000, 1000), dtype=np.int64).nbytes)"
   ]
  },
  {
   "cell_type": "code",
   "execution_count": 27,
   "metadata": {},
   "outputs": [
    {
     "name": "stdout",
     "output_type": "stream",
     "text": [
      "1\n",
      "1\n",
      "1\n",
      "1\n",
      "[1 3 5]\n",
      "[1 2]\n"
     ]
    }
   ],
   "source": [
    "# Array access\n",
    "py_list = [1, 2, 3, 4]\n",
    "np_array = np.array([1, 2, 3, 4])\n",
    "print(py_list[0])\n",
    "print(np_array[0])\n",
    "\n",
    "py_list = [[1, 2], [3, 4], [5, 6]]\n",
    "np_array = np.array(py_list)\n",
    "\n",
    "print(py_list[0][0])\n",
    "print(np_array[0,0])\n",
    "\n",
    "\n",
    "print(np_array[:,0])\n",
    "print(np_array[0,:])"
   ]
  },
  {
   "cell_type": "code",
   "execution_count": 34,
   "metadata": {},
   "outputs": [
    {
     "name": "stdout",
     "output_type": "stream",
     "text": [
      "[[ 1  2  3  4]\n",
      " [ 5  6  7  8]\n",
      " [ 9 10 11 12]]\n",
      "[[ 2  3]\n",
      " [ 6  7]\n",
      " [10 11]]\n",
      "[[5 6]]\n"
     ]
    }
   ],
   "source": [
    "a = np.array([[1, 2, 3, 4], [5, 6, 7, 8], [9, 10, 11, 12]])\n",
    "print(a)\n",
    "print(a[:,1:-1])\n",
    "print(a[-2:-1,:2])"
   ]
  },
  {
   "cell_type": "code",
   "execution_count": 39,
   "metadata": {},
   "outputs": [
    {
     "name": "stdout",
     "output_type": "stream",
     "text": [
      "[[0. 0. 0. 0. 0.]\n",
      " [0. 0. 0. 0. 0.]\n",
      " [0. 0. 0. 0. 0.]\n",
      " [0. 0. 0. 0. 0.]\n",
      " [0. 0. 0. 0. 0.]]\n",
      "[[1. 1. 1.]\n",
      " [1. 1. 1.]\n",
      " [1. 1. 1.]]\n",
      "[[0. 0. 0.]\n",
      " [0. 0. 0.]\n",
      " [0. 0. 0.]]\n",
      "[[0. 0. 0. 0. 0.]\n",
      " [0. 1. 1. 1. 0.]\n",
      " [0. 1. 1. 1. 0.]\n",
      " [0. 1. 1. 1. 0.]\n",
      " [0. 0. 0. 0. 0.]]\n"
     ]
    }
   ],
   "source": [
    "# Access and change \n",
    "\n",
    "zeros = np.zeros((5, 5))\n",
    "print(zeros)\n",
    "ones = np.ones((3, 3))\n",
    "print(ones)\n",
    "\n",
    "print(zeros[1:-1, 1:-1])\n",
    "\n",
    "zeros[1:-1, 1:-1] = ones\n",
    "\n",
    "print(zeros)"
   ]
  },
  {
   "cell_type": "code",
   "execution_count": 40,
   "metadata": {},
   "outputs": [
    {
     "ename": "ValueError",
     "evalue": "could not broadcast input array from shape (3,2) into shape (3,3)",
     "output_type": "error",
     "traceback": [
      "\u001b[0;31m---------------------------------------------------------------------------\u001b[0m",
      "\u001b[0;31mValueError\u001b[0m                                Traceback (most recent call last)",
      "Cell \u001b[0;32mIn [40], line 5\u001b[0m\n\u001b[1;32m      1\u001b[0m \u001b[39m# This does not work\u001b[39;00m\n\u001b[1;32m      3\u001b[0m filler \u001b[39m=\u001b[39m [[\u001b[39m1\u001b[39m, \u001b[39m1\u001b[39m,], [\u001b[39m1\u001b[39m, \u001b[39m1\u001b[39m], [\u001b[39m1\u001b[39m, \u001b[39m1\u001b[39m]]\n\u001b[0;32m----> 5\u001b[0m zeros[\u001b[39m1\u001b[39m:\u001b[39m-\u001b[39m\u001b[39m1\u001b[39m, \u001b[39m1\u001b[39m:\u001b[39m-\u001b[39m\u001b[39m1\u001b[39m] \u001b[39m=\u001b[39m filler\n",
      "\u001b[0;31mValueError\u001b[0m: could not broadcast input array from shape (3,2) into shape (3,3)"
     ]
    }
   ],
   "source": [
    "# This does not work\n",
    "\n",
    "filler = [[1, 1,], [1, 1], [1, 1]]\n",
    "\n",
    "zeros[1:-1, 1:-1] = filler"
   ]
  },
  {
   "cell_type": "code",
   "execution_count": 42,
   "metadata": {},
   "outputs": [
    {
     "data": {
      "text/plain": [
       "array([[0., 0., 0., 0.],\n",
       "       [0., 0., 0., 0.],\n",
       "       [0., 0., 0., 0.],\n",
       "       [0., 0., 0., 0.]])"
      ]
     },
     "execution_count": 42,
     "metadata": {},
     "output_type": "execute_result"
    }
   ],
   "source": [
    "# Initialize arrays with pre-filled 0s\n",
    "\n",
    "np.zeros((4, 4))"
   ]
  },
  {
   "cell_type": "code",
   "execution_count": 43,
   "metadata": {},
   "outputs": [
    {
     "data": {
      "text/plain": [
       "array([[1., 1., 1., 1.],\n",
       "       [1., 1., 1., 1.],\n",
       "       [1., 1., 1., 1.],\n",
       "       [1., 1., 1., 1.]])"
      ]
     },
     "execution_count": 43,
     "metadata": {},
     "output_type": "execute_result"
    }
   ],
   "source": [
    "# Initialize arrays with pre-filled 1s\n",
    "\n",
    "np.ones((4, 4))"
   ]
  },
  {
   "cell_type": "code",
   "execution_count": 48,
   "metadata": {},
   "outputs": [
    {
     "name": "stdout",
     "output_type": "stream",
     "text": [
      "[[10. 10.]\n",
      " [10. 10.]]\n",
      "[[10. 10.]\n",
      " [10. 10.]]\n",
      "[[10 10]\n",
      " [10 10]]\n"
     ]
    }
   ],
   "source": [
    "# Filling arrays\n",
    "\n",
    "empty = np.ndarray((2, 2))\n",
    "print(empty)\n",
    "empty.fill(10)\n",
    "print(empty)\n",
    "\n",
    "print(np.full((2, 2), 10))"
   ]
  },
  {
   "cell_type": "code",
   "execution_count": 54,
   "metadata": {},
   "outputs": [
    {
     "name": "stdout",
     "output_type": "stream",
     "text": [
      "CPU times: user 2.18 s, sys: 6.35 s, total: 8.54 s\n",
      "Wall time: 15.3 s\n"
     ]
    }
   ],
   "source": [
    "%%time\n",
    "\n",
    "a = np.ndarray((100000, 100000))\n",
    "a.fill(10)"
   ]
  },
  {
   "cell_type": "code",
   "execution_count": 55,
   "metadata": {},
   "outputs": [
    {
     "name": "stdout",
     "output_type": "stream",
     "text": [
      "CPU times: user 2.21 s, sys: 7.11 s, total: 9.33 s\n",
      "Wall time: 14.2 s\n"
     ]
    }
   ],
   "source": [
    "%%time\n",
    "\n",
    "a = np.full((100000, 100000), 10)"
   ]
  },
  {
   "cell_type": "code",
   "execution_count": 60,
   "metadata": {},
   "outputs": [
    {
     "name": "stdout",
     "output_type": "stream",
     "text": [
      "[[10 10 10 10]\n",
      " [10 10 10 10]]\n",
      "[[1 1 1 1]\n",
      " [1 1 1 1]]\n",
      "[[0 0 0 0]\n",
      " [0 0 0 0]]\n"
     ]
    }
   ],
   "source": [
    "a = np.array([[1, 2, 3, 4], [1, 2, 4, 6]])\n",
    "\n",
    "print(np.full_like(a, 10))\n",
    "print(np.ones_like(a))\n",
    "print(np.zeros_like(a))"
   ]
  },
  {
   "cell_type": "code",
   "execution_count": 61,
   "metadata": {},
   "outputs": [
    {
     "data": {
      "text/plain": [
       "array([[0.14761005, 0.54168113, 0.28468527, 0.480612  , 0.7643192 ],\n",
       "       [0.09610459, 0.84164955, 0.22714148, 0.20966886, 0.5131193 ],\n",
       "       [0.9058544 , 0.90874936, 0.11014788, 0.21752583, 0.37849715],\n",
       "       [0.55233713, 0.29823378, 0.34772667, 0.39243074, 0.76298306],\n",
       "       [0.39273132, 0.68211964, 0.87870896, 0.74252352, 0.72292411]])"
      ]
     },
     "execution_count": 61,
     "metadata": {},
     "output_type": "execute_result"
    }
   ],
   "source": [
    "# Intialize random array with random numbers (0-1)\n",
    "\n",
    "np.random.rand(5, 5)"
   ]
  },
  {
   "cell_type": "code",
   "execution_count": 74,
   "metadata": {},
   "outputs": [
    {
     "name": "stdout",
     "output_type": "stream",
     "text": [
      "[5 5 4 1 3 1 5 6 5 4]\n",
      "[1 2 1 2 2 1 2 1 2 2 1 2 1 2 1 1]\n",
      "0.49993326\n"
     ]
    }
   ],
   "source": [
    "# Intialize random array with random numbers (with set range)\n",
    "\n",
    "print(np.random.randint(1, 7, size=(10,)))\n",
    "print(np.random.randint(1, 3, size=(16,)))\n",
    "\n",
    "print(np.mean(np.random.randint(0, 2, size=(10000,))))"
   ]
  },
  {
   "cell_type": "code",
   "execution_count": 75,
   "metadata": {},
   "outputs": [
    {
     "data": {
      "text/plain": [
       "array([[1., 0., 0., 0., 0., 0., 0., 0., 0., 0.],\n",
       "       [0., 1., 0., 0., 0., 0., 0., 0., 0., 0.],\n",
       "       [0., 0., 1., 0., 0., 0., 0., 0., 0., 0.],\n",
       "       [0., 0., 0., 1., 0., 0., 0., 0., 0., 0.],\n",
       "       [0., 0., 0., 0., 1., 0., 0., 0., 0., 0.],\n",
       "       [0., 0., 0., 0., 0., 1., 0., 0., 0., 0.],\n",
       "       [0., 0., 0., 0., 0., 0., 1., 0., 0., 0.],\n",
       "       [0., 0., 0., 0., 0., 0., 0., 1., 0., 0.],\n",
       "       [0., 0., 0., 0., 0., 0., 0., 0., 1., 0.],\n",
       "       [0., 0., 0., 0., 0., 0., 0., 0., 0., 1.]])"
      ]
     },
     "execution_count": 75,
     "metadata": {},
     "output_type": "execute_result"
    }
   ],
   "source": [
    "# Identity matrix\n",
    "\n",
    "np.identity(10)"
   ]
  },
  {
   "cell_type": "code",
   "execution_count": 76,
   "metadata": {},
   "outputs": [
    {
     "data": {
      "text/plain": [
       "array([[1., 0., 0., 0., 0., 0., 0., 0., 0., 0.],\n",
       "       [0., 1., 0., 0., 0., 0., 0., 0., 0., 0.],\n",
       "       [0., 0., 1., 0., 0., 0., 0., 0., 0., 0.],\n",
       "       [0., 0., 0., 1., 0., 0., 0., 0., 0., 0.],\n",
       "       [0., 0., 0., 0., 1., 0., 0., 0., 0., 0.],\n",
       "       [0., 0., 0., 0., 0., 1., 0., 0., 0., 0.],\n",
       "       [0., 0., 0., 0., 0., 0., 1., 0., 0., 0.],\n",
       "       [0., 0., 0., 0., 0., 0., 0., 1., 0., 0.],\n",
       "       [0., 0., 0., 0., 0., 0., 0., 0., 1., 0.],\n",
       "       [0., 0., 0., 0., 0., 0., 0., 0., 0., 1.]])"
      ]
     },
     "execution_count": 76,
     "metadata": {},
     "output_type": "execute_result"
    }
   ],
   "source": [
    "np.eye(10)"
   ]
  },
  {
   "cell_type": "code",
   "execution_count": 78,
   "metadata": {},
   "outputs": [
    {
     "name": "stdout",
     "output_type": "stream",
     "text": [
      "[[1 2 3 4 5]]\n",
      "[[1 2 3 4 5]\n",
      " [1 2 3 4 5]\n",
      " [1 2 3 4 5]]\n",
      "[[1 1 1 2 2 2 3 3 3 4 4 4 5 5 5]]\n"
     ]
    }
   ],
   "source": [
    "# Repeat\n",
    "\n",
    "a = np.array([[1, 2, 3, 4, 5]])\n",
    "print(a)\n",
    "print(np.repeat(a, 3, axis=0))\n",
    "print(np.repeat(a, 3, axis=1))"
   ]
  },
  {
   "cell_type": "code",
   "execution_count": 81,
   "metadata": {},
   "outputs": [
    {
     "name": "stdout",
     "output_type": "stream",
     "text": [
      "[10  2  3]\n",
      "[10  2  3]\n",
      "[10  2  3]\n",
      "[1 2 3]\n"
     ]
    }
   ],
   "source": [
    "# Copy stuff\n",
    "\n",
    "a = np.array([1, 2, 3])\n",
    "b = a\n",
    "b[0] = 10\n",
    "print(b)\n",
    "print(a)\n",
    "\n",
    "# RIGHT WAY!\n",
    "a = np.array([1, 2, 3])\n",
    "b = a.copy()\n",
    "b[0] = 10\n",
    "print(b)\n",
    "print(a)\n"
   ]
  },
  {
   "cell_type": "code",
   "execution_count": 83,
   "metadata": {},
   "outputs": [
    {
     "name": "stdout",
     "output_type": "stream",
     "text": [
      "[2 3 4 6 7]\n"
     ]
    }
   ],
   "source": [
    "# Maths\n",
    "\n",
    "a = np.array([1, 2, 3, 5, 6])\n",
    "print(a + 1)"
   ]
  },
  {
   "cell_type": "code",
   "execution_count": 84,
   "metadata": {},
   "outputs": [
    {
     "name": "stdout",
     "output_type": "stream",
     "text": [
      "[0 1 2 4 5]\n"
     ]
    }
   ],
   "source": [
    "a = np.array([1, 2, 3, 5, 6])\n",
    "print(a - 1)"
   ]
  },
  {
   "cell_type": "code",
   "execution_count": 122,
   "metadata": {},
   "outputs": [
    {
     "name": "stdout",
     "output_type": "stream",
     "text": [
      "[ 3  6  9 15 18]\n"
     ]
    }
   ],
   "source": [
    "a = np.array([1, 2, 3, 5, 6])\n",
    "print(a * 3)"
   ]
  },
  {
   "cell_type": "code",
   "execution_count": 123,
   "metadata": {},
   "outputs": [
    {
     "name": "stdout",
     "output_type": "stream",
     "text": [
      "[False False  True  True  True]\n"
     ]
    }
   ],
   "source": [
    "print(a > 2)"
   ]
  },
  {
   "cell_type": "code",
   "execution_count": 89,
   "metadata": {},
   "outputs": [
    {
     "name": "stdout",
     "output_type": "stream",
     "text": [
      "int64\n",
      "[0.33333333 0.66666667 1.         1.66666667 2.        ]\n",
      "float64\n"
     ]
    }
   ],
   "source": [
    "a = np.array([1, 2, 3, 5, 6])\n",
    "print(a.dtype)\n",
    "print(a / 3)\n",
    "print((a / 3).dtype)"
   ]
  },
  {
   "cell_type": "code",
   "execution_count": 91,
   "metadata": {},
   "outputs": [
    {
     "name": "stdout",
     "output_type": "stream",
     "text": [
      "[ 3  4  7 10 12]\n"
     ]
    },
    {
     "ename": "ValueError",
     "evalue": "operands could not be broadcast together with shapes (5,) (3,) ",
     "output_type": "error",
     "traceback": [
      "\u001b[0;31m---------------------------------------------------------------------------\u001b[0m",
      "\u001b[0;31mValueError\u001b[0m                                Traceback (most recent call last)",
      "Cell \u001b[0;32mIn [91], line 5\u001b[0m\n\u001b[1;32m      2\u001b[0m \u001b[39mprint\u001b[39m(a \u001b[39m+\u001b[39m b)\n\u001b[1;32m      4\u001b[0m b \u001b[39m=\u001b[39m np\u001b[39m.\u001b[39marray([\u001b[39m2\u001b[39m, \u001b[39m2\u001b[39m, \u001b[39m4\u001b[39m])\n\u001b[0;32m----> 5\u001b[0m \u001b[39mprint\u001b[39m(a \u001b[39m+\u001b[39m b)\n",
      "\u001b[0;31mValueError\u001b[0m: operands could not be broadcast together with shapes (5,) (3,) "
     ]
    }
   ],
   "source": [
    "b = np.array([2, 2, 4, 5, 6])\n",
    "print(a + b)\n"
   ]
  },
  {
   "cell_type": "code",
   "execution_count": 92,
   "metadata": {},
   "outputs": [
    {
     "name": "stdout",
     "output_type": "stream",
     "text": [
      "[ 2  4 12 25 36]\n"
     ]
    }
   ],
   "source": [
    "b = np.array([2, 2, 4, 5, 6])\n",
    "print(a * b)"
   ]
  },
  {
   "cell_type": "code",
   "execution_count": 93,
   "metadata": {},
   "outputs": [
    {
     "name": "stdout",
     "output_type": "stream",
     "text": [
      "[0.5  1.   0.75 1.   1.  ]\n"
     ]
    }
   ],
   "source": [
    "b = np.array([2, 2, 4, 5, 6])\n",
    "print(a / b)"
   ]
  },
  {
   "cell_type": "code",
   "execution_count": 94,
   "metadata": {},
   "outputs": [
    {
     "name": "stdout",
     "output_type": "stream",
     "text": [
      "[    1     4    81  3125 46656]\n"
     ]
    }
   ],
   "source": [
    "b = np.array([2, 2, 4, 5, 6])\n",
    "print(a ** b)"
   ]
  },
  {
   "cell_type": "code",
   "execution_count": 95,
   "metadata": {},
   "outputs": [
    {
     "data": {
      "text/plain": [
       "array([ 0.54030231, -0.41614684, -0.9899925 ,  0.28366219,  0.96017029])"
      ]
     },
     "execution_count": 95,
     "metadata": {},
     "output_type": "execute_result"
    }
   ],
   "source": [
    "np.cos(a)"
   ]
  },
  {
   "cell_type": "code",
   "execution_count": 100,
   "metadata": {},
   "outputs": [
    {
     "name": "stdout",
     "output_type": "stream",
     "text": [
      "[[1 2 3 4]\n",
      " [1 2 3 4]] (2, 4)\n",
      "[[1 2]\n",
      " [3 4]\n",
      " [4 6]\n",
      " [4 5]] (4, 2)\n",
      "[[35 48]\n",
      " [35 48]]\n"
     ]
    }
   ],
   "source": [
    "a = np.array([[1, 2, 3, 4], [1, 2, 3, 4]])\n",
    "print(a, a.shape)\n",
    "\n",
    "b = np.array([[1, 2], [3, 4], [4, 6], [4, 5]])\n",
    "print(b, b.shape)\n",
    "\n",
    "print(a.dot(b))"
   ]
  },
  {
   "cell_type": "code",
   "execution_count": 104,
   "metadata": {},
   "outputs": [
    {
     "name": "stdout",
     "output_type": "stream",
     "text": [
      "[[1 2 3 4]\n",
      " [1 2 3 4]] (2, 4)\n",
      "[[1 2 3 4]\n",
      " [5 6 7 8]] (2, 4)\n",
      "[[30 70]\n",
      " [30 70]]\n"
     ]
    }
   ],
   "source": [
    "a = np.array([[1, 2, 3, 4], [1, 2, 3, 4]])\n",
    "print(a, a.shape)\n",
    "\n",
    "b = np.array([[1, 2, 3, 4], [5, 6, 7, 8]])\n",
    "print(b, b.shape)\n",
    "\n",
    "print(a.dot(b.T))"
   ]
  },
  {
   "cell_type": "code",
   "execution_count": 105,
   "metadata": {},
   "outputs": [
    {
     "data": {
      "text/plain": [
       "1.0"
      ]
     },
     "execution_count": 105,
     "metadata": {},
     "output_type": "execute_result"
    }
   ],
   "source": [
    "# Find the determinant\n",
    "\n",
    "a = np.identity(3)\n",
    "np.linalg.det(a)"
   ]
  },
  {
   "cell_type": "code",
   "execution_count": 115,
   "metadata": {},
   "outputs": [
    {
     "name": "stdout",
     "output_type": "stream",
     "text": [
      "[[1 0 1 1 0 0 1 0 0 0]\n",
      " [0 0 1 1 1 1 0 0 1 0]\n",
      " [0 1 0 1 0 1 1 1 1 0]\n",
      " [0 0 0 0 0 0 0 0 0 0]\n",
      " [0 0 1 0 1 0 1 0 0 1]\n",
      " [1 1 0 0 0 0 0 1 0 1]\n",
      " [0 0 1 1 0 0 1 0 0 0]\n",
      " [0 1 1 0 1 0 0 0 1 0]\n",
      " [1 0 1 1 1 0 1 1 1 0]\n",
      " [0 1 1 0 1 0 0 0 1 1]]\n",
      "mean 0.42\n",
      "min 0\n",
      "max 1\n",
      "sum [4 5 6 0 4 4 3 4 7 5]\n",
      "sum [3 4 7 5 5 2 5 3 5 3]\n"
     ]
    }
   ],
   "source": [
    "a = np.random.randint(0, 2, size=(10,10))\n",
    "print(a)\n",
    "print(\"mean\", np.mean(a))\n",
    "print(\"min\", np.min(a))\n",
    "print(\"max\", np.max(a))\n",
    "print(\"sum\", np.sum(a, axis=1))\n",
    "print(\"sum\", np.sum(a, axis=0))"
   ]
  },
  {
   "cell_type": "code",
   "execution_count": 116,
   "metadata": {},
   "outputs": [
    {
     "data": {
      "text/plain": [
       "[5, 4, 6, 4, 7, 5, 7, 4, 5, 6]"
      ]
     },
     "execution_count": 116,
     "metadata": {},
     "output_type": "execute_result"
    }
   ],
   "source": [
    "# Convert to list\n",
    "\n",
    "a = np.random.randint(0, 2, size=(10,10))\n",
    "\n",
    "sum_arr = np.sum(a, axis=1)\n",
    "\n",
    "sum_arr.tolist()"
   ]
  },
  {
   "cell_type": "code",
   "execution_count": 120,
   "metadata": {},
   "outputs": [
    {
     "name": "stdout",
     "output_type": "stream",
     "text": [
      "[ 1  2  3  4 12 22 32 42]\n",
      "[ 1  2  3  4 12 22 32 42  1  2  3  4]\n",
      "[[ 1  2  3  4]\n",
      " [12 22 32 42]]\n",
      "[[ 1  2  3  4]\n",
      " [12 22 32 42]\n",
      " [ 1  2  3  4]]\n"
     ]
    }
   ],
   "source": [
    "# Stacking arrays\n",
    "\n",
    "a = ([1, 2, 3, 4])\n",
    "b = ([12, 22, 32, 42])\n",
    "\n",
    "print(np.hstack((a, b)))\n",
    "print(np.hstack((a, b, a)))\n",
    "\n",
    "print(np.vstack((a, b)))\n",
    "print(np.vstack((a, b, a)))"
   ]
  },
  {
   "cell_type": "code",
   "execution_count": 125,
   "metadata": {},
   "outputs": [
    {
     "name": "stdout",
     "output_type": "stream",
     "text": [
      "[1. 2. 3. 4. 5. 6. 7. 8. 9.]\n"
     ]
    }
   ],
   "source": [
    "# Read from file\n",
    "\n",
    "filedata = np.genfromtxt(\"data_np.txt\", delimiter=\",\")\n",
    "print(filedata)"
   ]
  },
  {
   "cell_type": "code",
   "execution_count": 132,
   "metadata": {},
   "outputs": [
    {
     "name": "stdout",
     "output_type": "stream",
     "text": [
      "[[1. 2. 3.]\n",
      " [4. 5. 6.]\n",
      " [7. 8. 9.]]\n",
      "[[[1. 2. 3.]\n",
      "  [4. 5. 6.]\n",
      "  [7. 8. 9.]]]\n",
      "[[[ 1  2]\n",
      "  [ 3  4]\n",
      "  [ 5  6]]\n",
      "\n",
      " [[ 7  8]\n",
      "  [ 9 10]\n",
      "  [11 12]]]\n"
     ]
    }
   ],
   "source": [
    "# Reshaping\n",
    "\n",
    "filedata = np.genfromtxt(\"data_np.txt\", delimiter=\",\")\n",
    "print(filedata.reshape(3, 3))\n",
    "print(filedata.reshape(1, 3, 3))\n",
    "\n",
    "\n",
    "a = np.array([1, 2, 3, 4, 5, 6, 7, 8, 9, 10, 11, 12])\n",
    "\n",
    "print(a.reshape(2, 3, 2))"
   ]
  },
  {
   "cell_type": "code",
   "execution_count": 141,
   "metadata": {},
   "outputs": [
    {
     "name": "stdout",
     "output_type": "stream",
     "text": [
      "48\n",
      "8000128\n"
     ]
    }
   ],
   "source": [
    "import sys\n",
    "\n",
    "# Saving and zipping stuff\n",
    "\n",
    "a = np.ones((1000, 1000))\n",
    "b = np.zeros((1000, 1000))\n",
    "\n",
    "with open(\"np_data.npz\", \"wb\") as f:\n",
    "    np.savez(f, ones=a, zeros=b)\n",
    "\n",
    "with open(\"np_data.txt\", \"w\") as f:\n",
    "    np.savetxt(f, a)\n",
    "\n",
    "\n",
    "with open(\"np_data.npz\", \"rb\") as f:\n",
    "    arr = np.load(f)\n",
    "\n",
    "    print(sys.getsizeof(arr))\n",
    "    print(sys.getsizeof(arr[\"ones\"]))"
   ]
  }
 ],
 "metadata": {
  "kernelspec": {
   "display_name": "Python 3.9.13 ('.venv': poetry)",
   "language": "python",
   "name": "python3"
  },
  "language_info": {
   "codemirror_mode": {
    "name": "ipython",
    "version": 3
   },
   "file_extension": ".py",
   "mimetype": "text/x-python",
   "name": "python",
   "nbconvert_exporter": "python",
   "pygments_lexer": "ipython3",
   "version": "3.9.13"
  },
  "orig_nbformat": 4,
  "vscode": {
   "interpreter": {
    "hash": "de17c4b867480f2f8bc5d2be08a00cb2e02a1ee18bda207b764c3905e0b438fb"
   }
  }
 },
 "nbformat": 4,
 "nbformat_minor": 2
}
