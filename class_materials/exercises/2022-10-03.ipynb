{
 "cells": [
  {
   "cell_type": "markdown",
   "metadata": {},
   "source": [
    "# 2022-10-03"
   ]
  },
  {
   "cell_type": "markdown",
   "metadata": {},
   "source": [
    "## Užuotis 1\n",
    "Duotas skaičius `n`. Rasti skaičiaus `n` faktorialą `n!`"
   ]
  },
  {
   "cell_type": "code",
   "execution_count": 1,
   "metadata": {},
   "outputs": [],
   "source": [
    "# 1"
   ]
  },
  {
   "cell_type": "markdown",
   "metadata": {},
   "source": [
    "## Užduotis 2\n",
    "Fibonačio eilutė - tai skaičių eilutė, kurios `n`-tasis narys yra prieš tai buvusių `n-1` bei `n-2` narių suma:\n",
    "```\n",
    "0, 1, 1, 2, 3, 5, 8, 13,…\n",
    "```\n",
    "Atspausdinti visą fibonačio seką iki n-tojo nario `n`. Pvz `n = 7` -> `0, 1, 1, 2, 3, 5, 8`"
   ]
  },
  {
   "cell_type": "code",
   "execution_count": 2,
   "metadata": {},
   "outputs": [],
   "source": [
    "# 2"
   ]
  },
  {
   "cell_type": "markdown",
   "metadata": {},
   "source": [
    "## Užduotis 3\n",
    "Naudojant rekursiją, rasti duotojo skaičiaus skaitmenų sumą. Pvz.: `n = 134` -> `8`"
   ]
  },
  {
   "cell_type": "code",
   "execution_count": null,
   "metadata": {},
   "outputs": [],
   "source": [
    "# 3"
   ]
  },
  {
   "cell_type": "markdown",
   "metadata": {},
   "source": [
    "## Užduotis 4\n",
    "Naudojant rekursiją, rasti duotojo skaičiaus lyginių skaitmenų sumą. Pvz.: `n = 134` -> `4`"
   ]
  },
  {
   "cell_type": "code",
   "execution_count": null,
   "metadata": {},
   "outputs": [],
   "source": [
    "# 4"
   ]
  },
  {
   "cell_type": "markdown",
   "metadata": {},
   "source": [
    "## Užduotis 5\n",
    "Naudojant rekursiją, atspausdinti duotą žodį `s` atvirkščiai. Pvz.: `s = \"olleh\" -> \"hello\""
   ]
  },
  {
   "cell_type": "code",
   "execution_count": null,
   "metadata": {},
   "outputs": [],
   "source": [
    "# 5"
   ]
  },
  {
   "cell_type": "markdown",
   "metadata": {},
   "source": [
    "# "
   ]
  },
  {
   "cell_type": "markdown",
   "metadata": {},
   "source": []
  }
 ],
 "metadata": {
  "kernelspec": {
   "display_name": "Python 3.9.13 ('.venv': poetry)",
   "language": "python",
   "name": "python3"
  },
  "language_info": {
   "codemirror_mode": {
    "name": "ipython",
    "version": 3
   },
   "file_extension": ".py",
   "mimetype": "text/x-python",
   "name": "python",
   "nbconvert_exporter": "python",
   "pygments_lexer": "ipython3",
   "version": "3.9.13"
  },
  "orig_nbformat": 4,
  "vscode": {
   "interpreter": {
    "hash": "4629e5109eac4fae59b47ffdf44e3b457a9e01ac6e60bbb940dd6bab23079ebc"
   }
  }
 },
 "nbformat": 4,
 "nbformat_minor": 2
}
